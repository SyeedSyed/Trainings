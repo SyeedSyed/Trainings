{
 "cells": [
  {
   "cell_type": "markdown",
   "id": "a8403402",
   "metadata": {},
   "source": [
    "# Time Series Analysis"
   ]
  },
  {
   "cell_type": "code",
   "execution_count": 1,
   "id": "f27e77b5",
   "metadata": {},
   "outputs": [],
   "source": [
    "#Stationary Time Series: Mean and Variance of one time matches with Mean and Variance of other time then the series is known as Stationary."
   ]
  },
  {
   "cell_type": "code",
   "execution_count": 58,
   "id": "db974374",
   "metadata": {},
   "outputs": [
    {
     "data": {
      "text/plain": [
       "'\\n- In Time series there is not dependent or independent variable. \\n- The independent variable will also be a dependent variable.\\n- In Time series, data is very important. Output will always depend on Date.\\n- Time series is always a univariate.\\n\\n'"
      ]
     },
     "execution_count": 58,
     "metadata": {},
     "output_type": "execute_result"
    }
   ],
   "source": [
    "'''\n",
    "- In Time series there is no dependent or independent variable. \n",
    "- The independent variable will also be a dependent variable.\n",
    "- In Time series, data is very important. Output will always depend on Date.\n",
    "- Time series is always a univariate.\n",
    "\n",
    "'''"
   ]
  },
  {
   "cell_type": "code",
   "execution_count": 59,
   "id": "bee556fa",
   "metadata": {},
   "outputs": [
    {
     "data": {
      "text/plain": [
       "'\\nSteps: \\n - Check for Stationary First\\n     - Look at Plots\\n     - Summary Statistics\\n     - Statistical Test - Hypothesis Testing(AD Fuller Test) \\n - Algorithms\\n     - Moving Average(MA) OR Rolling Statistics\\n     -\\n\\n'"
      ]
     },
     "execution_count": 59,
     "metadata": {},
     "output_type": "execute_result"
    }
   ],
   "source": [
    "'''\n",
    "Steps: \n",
    " - Check for Stationary First\n",
    "     - Look at Plots\n",
    "     - Summary Statistics\n",
    "     - Statistical Test - Hypothesis Testing(AD Fuller Test) \n",
    " - Algorithms\n",
    "     - Moving Average(MA) OR Rolling Statistics\n",
    "     -\n",
    "\n",
    "'''"
   ]
  },
  {
   "cell_type": "code",
   "execution_count": 60,
   "id": "463eb3d2",
   "metadata": {},
   "outputs": [],
   "source": [
    "import numpy as np\n",
    "import pandas as pd\n",
    "import matplotlib.pyplot as plt\n",
    "import seaborn as sns"
   ]
  },
  {
   "cell_type": "code",
   "execution_count": 61,
   "id": "004fea32",
   "metadata": {},
   "outputs": [],
   "source": [
    "dataset=pd.read_csv(r\"/Users/SyeedSyed/Documents/Learnings/DS_and_ML/DATA/electricity_consumption.csv\")"
   ]
  },
  {
   "cell_type": "code",
   "execution_count": 62,
   "id": "905a7cd7",
   "metadata": {},
   "outputs": [
    {
     "data": {
      "text/html": [
       "<div>\n",
       "<style scoped>\n",
       "    .dataframe tbody tr th:only-of-type {\n",
       "        vertical-align: middle;\n",
       "    }\n",
       "\n",
       "    .dataframe tbody tr th {\n",
       "        vertical-align: top;\n",
       "    }\n",
       "\n",
       "    .dataframe thead th {\n",
       "        text-align: right;\n",
       "    }\n",
       "</style>\n",
       "<table border=\"1\" class=\"dataframe\">\n",
       "  <thead>\n",
       "    <tr style=\"text-align: right;\">\n",
       "      <th></th>\n",
       "      <th>Bill_Date</th>\n",
       "      <th>On_peak</th>\n",
       "      <th>Off_peak</th>\n",
       "      <th>Usage_charge</th>\n",
       "      <th>Billed_amount</th>\n",
       "      <th>Billing_days</th>\n",
       "    </tr>\n",
       "  </thead>\n",
       "  <tbody>\n",
       "    <tr>\n",
       "      <th>0</th>\n",
       "      <td>1/1/2016</td>\n",
       "      <td>365</td>\n",
       "      <td>1423.5</td>\n",
       "      <td>219.00</td>\n",
       "      <td>247.73</td>\n",
       "      <td>31</td>\n",
       "    </tr>\n",
       "    <tr>\n",
       "      <th>1</th>\n",
       "      <td>2/1/2016</td>\n",
       "      <td>292</td>\n",
       "      <td>1138.8</td>\n",
       "      <td>175.20</td>\n",
       "      <td>234.11</td>\n",
       "      <td>31</td>\n",
       "    </tr>\n",
       "    <tr>\n",
       "      <th>2</th>\n",
       "      <td>3/1/2016</td>\n",
       "      <td>130</td>\n",
       "      <td>507.0</td>\n",
       "      <td>78.00</td>\n",
       "      <td>123.85</td>\n",
       "      <td>29</td>\n",
       "    </tr>\n",
       "    <tr>\n",
       "      <th>3</th>\n",
       "      <td>4/1/2016</td>\n",
       "      <td>117</td>\n",
       "      <td>456.3</td>\n",
       "      <td>70.20</td>\n",
       "      <td>111.22</td>\n",
       "      <td>29</td>\n",
       "    </tr>\n",
       "    <tr>\n",
       "      <th>4</th>\n",
       "      <td>5/1/2016</td>\n",
       "      <td>136</td>\n",
       "      <td>530.4</td>\n",
       "      <td>81.60</td>\n",
       "      <td>118.37</td>\n",
       "      <td>29</td>\n",
       "    </tr>\n",
       "    <tr>\n",
       "      <th>5</th>\n",
       "      <td>6/1/2016</td>\n",
       "      <td>63</td>\n",
       "      <td>245.7</td>\n",
       "      <td>37.80</td>\n",
       "      <td>77.81</td>\n",
       "      <td>32</td>\n",
       "    </tr>\n",
       "    <tr>\n",
       "      <th>6</th>\n",
       "      <td>7/1/2016</td>\n",
       "      <td>110</td>\n",
       "      <td>429.0</td>\n",
       "      <td>66.00</td>\n",
       "      <td>86.67</td>\n",
       "      <td>30</td>\n",
       "    </tr>\n",
       "    <tr>\n",
       "      <th>7</th>\n",
       "      <td>8/1/2016</td>\n",
       "      <td>176</td>\n",
       "      <td>686.4</td>\n",
       "      <td>105.60</td>\n",
       "      <td>122.40</td>\n",
       "      <td>29</td>\n",
       "    </tr>\n",
       "    <tr>\n",
       "      <th>8</th>\n",
       "      <td>9/1/2016</td>\n",
       "      <td>357</td>\n",
       "      <td>1392.3</td>\n",
       "      <td>214.20</td>\n",
       "      <td>223.62</td>\n",
       "      <td>33</td>\n",
       "    </tr>\n",
       "    <tr>\n",
       "      <th>9</th>\n",
       "      <td>10/1/2016</td>\n",
       "      <td>235</td>\n",
       "      <td>916.5</td>\n",
       "      <td>141.00</td>\n",
       "      <td>152.54</td>\n",
       "      <td>29</td>\n",
       "    </tr>\n",
       "    <tr>\n",
       "      <th>10</th>\n",
       "      <td>11/1/2016</td>\n",
       "      <td>193</td>\n",
       "      <td>752.7</td>\n",
       "      <td>115.80</td>\n",
       "      <td>150.54</td>\n",
       "      <td>32</td>\n",
       "    </tr>\n",
       "    <tr>\n",
       "      <th>11</th>\n",
       "      <td>12/1/2016</td>\n",
       "      <td>344</td>\n",
       "      <td>1341.6</td>\n",
       "      <td>206.40</td>\n",
       "      <td>244.37</td>\n",
       "      <td>31</td>\n",
       "    </tr>\n",
       "    <tr>\n",
       "      <th>12</th>\n",
       "      <td>1/1/2017</td>\n",
       "      <td>347</td>\n",
       "      <td>1353.3</td>\n",
       "      <td>208.20</td>\n",
       "      <td>263.64</td>\n",
       "      <td>33</td>\n",
       "    </tr>\n",
       "    <tr>\n",
       "      <th>13</th>\n",
       "      <td>2/1/2017</td>\n",
       "      <td>330</td>\n",
       "      <td>1287.0</td>\n",
       "      <td>198.00</td>\n",
       "      <td>214.32</td>\n",
       "      <td>27</td>\n",
       "    </tr>\n",
       "    <tr>\n",
       "      <th>14</th>\n",
       "      <td>3/1/2017</td>\n",
       "      <td>185</td>\n",
       "      <td>1103.0</td>\n",
       "      <td>139.38</td>\n",
       "      <td>151.54</td>\n",
       "      <td>31</td>\n",
       "    </tr>\n",
       "    <tr>\n",
       "      <th>15</th>\n",
       "      <td>4/1/2017</td>\n",
       "      <td>179</td>\n",
       "      <td>704.0</td>\n",
       "      <td>109.26</td>\n",
       "      <td>118.79</td>\n",
       "      <td>29</td>\n",
       "    </tr>\n",
       "    <tr>\n",
       "      <th>16</th>\n",
       "      <td>5/1/2017</td>\n",
       "      <td>228</td>\n",
       "      <td>829.0</td>\n",
       "      <td>140.89</td>\n",
       "      <td>153.18</td>\n",
       "      <td>31</td>\n",
       "    </tr>\n",
       "    <tr>\n",
       "      <th>17</th>\n",
       "      <td>6/1/2017</td>\n",
       "      <td>359</td>\n",
       "      <td>1067.0</td>\n",
       "      <td>195.07</td>\n",
       "      <td>212.08</td>\n",
       "      <td>31</td>\n",
       "    </tr>\n",
       "    <tr>\n",
       "      <th>18</th>\n",
       "      <td>7/1/2017</td>\n",
       "      <td>468</td>\n",
       "      <td>1533.0</td>\n",
       "      <td>258.64</td>\n",
       "      <td>281.19</td>\n",
       "      <td>32</td>\n",
       "    </tr>\n",
       "    <tr>\n",
       "      <th>19</th>\n",
       "      <td>8/1/2017</td>\n",
       "      <td>400</td>\n",
       "      <td>1252.0</td>\n",
       "      <td>218.87</td>\n",
       "      <td>237.97</td>\n",
       "      <td>30</td>\n",
       "    </tr>\n",
       "    <tr>\n",
       "      <th>20</th>\n",
       "      <td>9/1/2017</td>\n",
       "      <td>432</td>\n",
       "      <td>1447.0</td>\n",
       "      <td>261.50</td>\n",
       "      <td>284.30</td>\n",
       "      <td>30</td>\n",
       "    </tr>\n",
       "    <tr>\n",
       "      <th>21</th>\n",
       "      <td>10/1/2017</td>\n",
       "      <td>253</td>\n",
       "      <td>777.0</td>\n",
       "      <td>158.83</td>\n",
       "      <td>172.69</td>\n",
       "      <td>31</td>\n",
       "    </tr>\n",
       "    <tr>\n",
       "      <th>22</th>\n",
       "      <td>11/1/2017</td>\n",
       "      <td>165</td>\n",
       "      <td>521.0</td>\n",
       "      <td>102.57</td>\n",
       "      <td>111.51</td>\n",
       "      <td>29</td>\n",
       "    </tr>\n",
       "    <tr>\n",
       "      <th>23</th>\n",
       "      <td>12/1/2017</td>\n",
       "      <td>186</td>\n",
       "      <td>912.0</td>\n",
       "      <td>139.27</td>\n",
       "      <td>151.42</td>\n",
       "      <td>31</td>\n",
       "    </tr>\n",
       "    <tr>\n",
       "      <th>24</th>\n",
       "      <td>1/1/2018</td>\n",
       "      <td>316</td>\n",
       "      <td>1869.0</td>\n",
       "      <td>245.88</td>\n",
       "      <td>267.32</td>\n",
       "      <td>33</td>\n",
       "    </tr>\n",
       "    <tr>\n",
       "      <th>25</th>\n",
       "      <td>2/1/2018</td>\n",
       "      <td>256</td>\n",
       "      <td>1229.0</td>\n",
       "      <td>185.20</td>\n",
       "      <td>201.35</td>\n",
       "      <td>29</td>\n",
       "    </tr>\n",
       "    <tr>\n",
       "      <th>26</th>\n",
       "      <td>3/1/2018</td>\n",
       "      <td>266</td>\n",
       "      <td>1337.0</td>\n",
       "      <td>194.50</td>\n",
       "      <td>202.91</td>\n",
       "      <td>26</td>\n",
       "    </tr>\n",
       "    <tr>\n",
       "      <th>27</th>\n",
       "      <td>4/1/2018</td>\n",
       "      <td>141</td>\n",
       "      <td>812.0</td>\n",
       "      <td>143.44</td>\n",
       "      <td>150.86</td>\n",
       "      <td>34</td>\n",
       "    </tr>\n",
       "    <tr>\n",
       "      <th>28</th>\n",
       "      <td>5/1/2018</td>\n",
       "      <td>167</td>\n",
       "      <td>791.0</td>\n",
       "      <td>154.70</td>\n",
       "      <td>163.07</td>\n",
       "      <td>29</td>\n",
       "    </tr>\n",
       "    <tr>\n",
       "      <th>29</th>\n",
       "      <td>6/1/2018</td>\n",
       "      <td>257</td>\n",
       "      <td>1051.0</td>\n",
       "      <td>208.55</td>\n",
       "      <td>219.76</td>\n",
       "      <td>30</td>\n",
       "    </tr>\n",
       "    <tr>\n",
       "      <th>30</th>\n",
       "      <td>7/1/2018</td>\n",
       "      <td>295</td>\n",
       "      <td>1482.0</td>\n",
       "      <td>269.93</td>\n",
       "      <td>283.98</td>\n",
       "      <td>33</td>\n",
       "    </tr>\n",
       "    <tr>\n",
       "      <th>31</th>\n",
       "      <td>8/1/2018</td>\n",
       "      <td>330</td>\n",
       "      <td>1470.0</td>\n",
       "      <td>275.71</td>\n",
       "      <td>290.15</td>\n",
       "      <td>29</td>\n",
       "    </tr>\n",
       "    <tr>\n",
       "      <th>32</th>\n",
       "      <td>9/1/2018</td>\n",
       "      <td>261</td>\n",
       "      <td>1375.0</td>\n",
       "      <td>245.48</td>\n",
       "      <td>257.96</td>\n",
       "      <td>26</td>\n",
       "    </tr>\n",
       "    <tr>\n",
       "      <th>33</th>\n",
       "      <td>10/1/2018</td>\n",
       "      <td>366</td>\n",
       "      <td>1705.0</td>\n",
       "      <td>311.34</td>\n",
       "      <td>327.19</td>\n",
       "      <td>25</td>\n",
       "    </tr>\n",
       "    <tr>\n",
       "      <th>34</th>\n",
       "      <td>11/1/2018</td>\n",
       "      <td>245</td>\n",
       "      <td>1036.0</td>\n",
       "      <td>184.40</td>\n",
       "      <td>193.49</td>\n",
       "      <td>30</td>\n",
       "    </tr>\n",
       "    <tr>\n",
       "      <th>35</th>\n",
       "      <td>12/1/2018</td>\n",
       "      <td>125</td>\n",
       "      <td>899.0</td>\n",
       "      <td>145.26</td>\n",
       "      <td>152.34</td>\n",
       "      <td>32</td>\n",
       "    </tr>\n",
       "    <tr>\n",
       "      <th>36</th>\n",
       "      <td>1/1/2019</td>\n",
       "      <td>151</td>\n",
       "      <td>1257.0</td>\n",
       "      <td>187.91</td>\n",
       "      <td>196.62</td>\n",
       "      <td>31</td>\n",
       "    </tr>\n",
       "    <tr>\n",
       "      <th>37</th>\n",
       "      <td>2/1/2019</td>\n",
       "      <td>121</td>\n",
       "      <td>1281.0</td>\n",
       "      <td>181.85</td>\n",
       "      <td>190.07</td>\n",
       "      <td>31</td>\n",
       "    </tr>\n",
       "    <tr>\n",
       "      <th>38</th>\n",
       "      <td>3/1/2019</td>\n",
       "      <td>128</td>\n",
       "      <td>1351.0</td>\n",
       "      <td>190.04</td>\n",
       "      <td>198.57</td>\n",
       "      <td>27</td>\n",
       "    </tr>\n",
       "    <tr>\n",
       "      <th>39</th>\n",
       "      <td>4/1/2019</td>\n",
       "      <td>95</td>\n",
       "      <td>683.0</td>\n",
       "      <td>111.62</td>\n",
       "      <td>115.15</td>\n",
       "      <td>31</td>\n",
       "    </tr>\n",
       "    <tr>\n",
       "      <th>40</th>\n",
       "      <td>5/1/2019</td>\n",
       "      <td>162</td>\n",
       "      <td>783.0</td>\n",
       "      <td>147.83</td>\n",
       "      <td>153.18</td>\n",
       "      <td>29</td>\n",
       "    </tr>\n",
       "    <tr>\n",
       "      <th>41</th>\n",
       "      <td>6/1/2019</td>\n",
       "      <td>131</td>\n",
       "      <td>722.0</td>\n",
       "      <td>127.51</td>\n",
       "      <td>138.53</td>\n",
       "      <td>31</td>\n",
       "    </tr>\n",
       "    <tr>\n",
       "      <th>42</th>\n",
       "      <td>7/1/2019</td>\n",
       "      <td>276</td>\n",
       "      <td>1254.0</td>\n",
       "      <td>219.52</td>\n",
       "      <td>238.48</td>\n",
       "      <td>31</td>\n",
       "    </tr>\n",
       "    <tr>\n",
       "      <th>43</th>\n",
       "      <td>8/1/2019</td>\n",
       "      <td>376</td>\n",
       "      <td>1636.0</td>\n",
       "      <td>284.90</td>\n",
       "      <td>309.65</td>\n",
       "      <td>30</td>\n",
       "    </tr>\n",
       "    <tr>\n",
       "      <th>44</th>\n",
       "      <td>9/1/2019</td>\n",
       "      <td>501</td>\n",
       "      <td>2139.0</td>\n",
       "      <td>371.61</td>\n",
       "      <td>403.89</td>\n",
       "      <td>34</td>\n",
       "    </tr>\n",
       "    <tr>\n",
       "      <th>45</th>\n",
       "      <td>10/1/2019</td>\n",
       "      <td>279</td>\n",
       "      <td>1309.0</td>\n",
       "      <td>224.52</td>\n",
       "      <td>244.03</td>\n",
       "      <td>27</td>\n",
       "    </tr>\n",
       "    <tr>\n",
       "      <th>46</th>\n",
       "      <td>11/1/2019</td>\n",
       "      <td>171</td>\n",
       "      <td>843.0</td>\n",
       "      <td>133.84</td>\n",
       "      <td>145.46</td>\n",
       "      <td>31</td>\n",
       "    </tr>\n",
       "    <tr>\n",
       "      <th>47</th>\n",
       "      <td>12/1/2019</td>\n",
       "      <td>99</td>\n",
       "      <td>927.0</td>\n",
       "      <td>128.12</td>\n",
       "      <td>139.26</td>\n",
       "      <td>32</td>\n",
       "    </tr>\n",
       "    <tr>\n",
       "      <th>48</th>\n",
       "      <td>1/1/2020</td>\n",
       "      <td>211</td>\n",
       "      <td>1761.0</td>\n",
       "      <td>231.71</td>\n",
       "      <td>251.85</td>\n",
       "      <td>31</td>\n",
       "    </tr>\n",
       "    <tr>\n",
       "      <th>49</th>\n",
       "      <td>2/1/2020</td>\n",
       "      <td>190</td>\n",
       "      <td>1635.0</td>\n",
       "      <td>210.86</td>\n",
       "      <td>229.18</td>\n",
       "      <td>32</td>\n",
       "    </tr>\n",
       "    <tr>\n",
       "      <th>50</th>\n",
       "      <td>3/1/2020</td>\n",
       "      <td>151</td>\n",
       "      <td>1179.0</td>\n",
       "      <td>156.56</td>\n",
       "      <td>170.16</td>\n",
       "      <td>29</td>\n",
       "    </tr>\n",
       "    <tr>\n",
       "      <th>51</th>\n",
       "      <td>4/1/2020</td>\n",
       "      <td>75</td>\n",
       "      <td>625.0</td>\n",
       "      <td>87.27</td>\n",
       "      <td>94.85</td>\n",
       "      <td>29</td>\n",
       "    </tr>\n",
       "    <tr>\n",
       "      <th>52</th>\n",
       "      <td>5/1/2020</td>\n",
       "      <td>147</td>\n",
       "      <td>686.0</td>\n",
       "      <td>124.39</td>\n",
       "      <td>135.19</td>\n",
       "      <td>29</td>\n",
       "    </tr>\n",
       "  </tbody>\n",
       "</table>\n",
       "</div>"
      ],
      "text/plain": [
       "    Bill_Date  On_peak  Off_peak  Usage_charge  Billed_amount  Billing_days\n",
       "0    1/1/2016      365    1423.5        219.00         247.73            31\n",
       "1    2/1/2016      292    1138.8        175.20         234.11            31\n",
       "2    3/1/2016      130     507.0         78.00         123.85            29\n",
       "3    4/1/2016      117     456.3         70.20         111.22            29\n",
       "4    5/1/2016      136     530.4         81.60         118.37            29\n",
       "5    6/1/2016       63     245.7         37.80          77.81            32\n",
       "6    7/1/2016      110     429.0         66.00          86.67            30\n",
       "7    8/1/2016      176     686.4        105.60         122.40            29\n",
       "8    9/1/2016      357    1392.3        214.20         223.62            33\n",
       "9   10/1/2016      235     916.5        141.00         152.54            29\n",
       "10  11/1/2016      193     752.7        115.80         150.54            32\n",
       "11  12/1/2016      344    1341.6        206.40         244.37            31\n",
       "12   1/1/2017      347    1353.3        208.20         263.64            33\n",
       "13   2/1/2017      330    1287.0        198.00         214.32            27\n",
       "14   3/1/2017      185    1103.0        139.38         151.54            31\n",
       "15   4/1/2017      179     704.0        109.26         118.79            29\n",
       "16   5/1/2017      228     829.0        140.89         153.18            31\n",
       "17   6/1/2017      359    1067.0        195.07         212.08            31\n",
       "18   7/1/2017      468    1533.0        258.64         281.19            32\n",
       "19   8/1/2017      400    1252.0        218.87         237.97            30\n",
       "20   9/1/2017      432    1447.0        261.50         284.30            30\n",
       "21  10/1/2017      253     777.0        158.83         172.69            31\n",
       "22  11/1/2017      165     521.0        102.57         111.51            29\n",
       "23  12/1/2017      186     912.0        139.27         151.42            31\n",
       "24   1/1/2018      316    1869.0        245.88         267.32            33\n",
       "25   2/1/2018      256    1229.0        185.20         201.35            29\n",
       "26   3/1/2018      266    1337.0        194.50         202.91            26\n",
       "27   4/1/2018      141     812.0        143.44         150.86            34\n",
       "28   5/1/2018      167     791.0        154.70         163.07            29\n",
       "29   6/1/2018      257    1051.0        208.55         219.76            30\n",
       "30   7/1/2018      295    1482.0        269.93         283.98            33\n",
       "31   8/1/2018      330    1470.0        275.71         290.15            29\n",
       "32   9/1/2018      261    1375.0        245.48         257.96            26\n",
       "33  10/1/2018      366    1705.0        311.34         327.19            25\n",
       "34  11/1/2018      245    1036.0        184.40         193.49            30\n",
       "35  12/1/2018      125     899.0        145.26         152.34            32\n",
       "36   1/1/2019      151    1257.0        187.91         196.62            31\n",
       "37   2/1/2019      121    1281.0        181.85         190.07            31\n",
       "38   3/1/2019      128    1351.0        190.04         198.57            27\n",
       "39   4/1/2019       95     683.0        111.62         115.15            31\n",
       "40   5/1/2019      162     783.0        147.83         153.18            29\n",
       "41   6/1/2019      131     722.0        127.51         138.53            31\n",
       "42   7/1/2019      276    1254.0        219.52         238.48            31\n",
       "43   8/1/2019      376    1636.0        284.90         309.65            30\n",
       "44   9/1/2019      501    2139.0        371.61         403.89            34\n",
       "45  10/1/2019      279    1309.0        224.52         244.03            27\n",
       "46  11/1/2019      171     843.0        133.84         145.46            31\n",
       "47  12/1/2019       99     927.0        128.12         139.26            32\n",
       "48   1/1/2020      211    1761.0        231.71         251.85            31\n",
       "49   2/1/2020      190    1635.0        210.86         229.18            32\n",
       "50   3/1/2020      151    1179.0        156.56         170.16            29\n",
       "51   4/1/2020       75     625.0         87.27          94.85            29\n",
       "52   5/1/2020      147     686.0        124.39         135.19            29"
      ]
     },
     "execution_count": 62,
     "metadata": {},
     "output_type": "execute_result"
    }
   ],
   "source": [
    "dataset"
   ]
  },
  {
   "cell_type": "code",
   "execution_count": 63,
   "id": "dfa744ef",
   "metadata": {},
   "outputs": [
    {
     "data": {
      "text/plain": [
       "(53, 6)"
      ]
     },
     "execution_count": 63,
     "metadata": {},
     "output_type": "execute_result"
    }
   ],
   "source": [
    "dataset.shape"
   ]
  },
  {
   "cell_type": "code",
   "execution_count": 64,
   "id": "14cbac73",
   "metadata": {},
   "outputs": [
    {
     "data": {
      "text/plain": [
       "Bill_Date         object\n",
       "On_peak            int64\n",
       "Off_peak         float64\n",
       "Usage_charge     float64\n",
       "Billed_amount    float64\n",
       "Billing_days       int64\n",
       "dtype: object"
      ]
     },
     "execution_count": 64,
     "metadata": {},
     "output_type": "execute_result"
    }
   ],
   "source": [
    "dataset.dtypes"
   ]
  },
  {
   "cell_type": "code",
   "execution_count": 65,
   "id": "56dd695d",
   "metadata": {},
   "outputs": [],
   "source": [
    "#YYYY-MM-DD\n",
    "dataset[\"Bill_Date\"] = pd.to_datetime(dataset[\"Bill_Date\"])"
   ]
  },
  {
   "cell_type": "code",
   "execution_count": 66,
   "id": "cca9a476",
   "metadata": {},
   "outputs": [
    {
     "data": {
      "text/html": [
       "<div>\n",
       "<style scoped>\n",
       "    .dataframe tbody tr th:only-of-type {\n",
       "        vertical-align: middle;\n",
       "    }\n",
       "\n",
       "    .dataframe tbody tr th {\n",
       "        vertical-align: top;\n",
       "    }\n",
       "\n",
       "    .dataframe thead th {\n",
       "        text-align: right;\n",
       "    }\n",
       "</style>\n",
       "<table border=\"1\" class=\"dataframe\">\n",
       "  <thead>\n",
       "    <tr style=\"text-align: right;\">\n",
       "      <th></th>\n",
       "      <th>Bill_Date</th>\n",
       "      <th>On_peak</th>\n",
       "      <th>Off_peak</th>\n",
       "      <th>Usage_charge</th>\n",
       "      <th>Billed_amount</th>\n",
       "      <th>Billing_days</th>\n",
       "    </tr>\n",
       "  </thead>\n",
       "  <tbody>\n",
       "    <tr>\n",
       "      <th>0</th>\n",
       "      <td>2016-01-01</td>\n",
       "      <td>365</td>\n",
       "      <td>1423.5</td>\n",
       "      <td>219.00</td>\n",
       "      <td>247.73</td>\n",
       "      <td>31</td>\n",
       "    </tr>\n",
       "    <tr>\n",
       "      <th>1</th>\n",
       "      <td>2016-02-01</td>\n",
       "      <td>292</td>\n",
       "      <td>1138.8</td>\n",
       "      <td>175.20</td>\n",
       "      <td>234.11</td>\n",
       "      <td>31</td>\n",
       "    </tr>\n",
       "    <tr>\n",
       "      <th>2</th>\n",
       "      <td>2016-03-01</td>\n",
       "      <td>130</td>\n",
       "      <td>507.0</td>\n",
       "      <td>78.00</td>\n",
       "      <td>123.85</td>\n",
       "      <td>29</td>\n",
       "    </tr>\n",
       "    <tr>\n",
       "      <th>3</th>\n",
       "      <td>2016-04-01</td>\n",
       "      <td>117</td>\n",
       "      <td>456.3</td>\n",
       "      <td>70.20</td>\n",
       "      <td>111.22</td>\n",
       "      <td>29</td>\n",
       "    </tr>\n",
       "    <tr>\n",
       "      <th>4</th>\n",
       "      <td>2016-05-01</td>\n",
       "      <td>136</td>\n",
       "      <td>530.4</td>\n",
       "      <td>81.60</td>\n",
       "      <td>118.37</td>\n",
       "      <td>29</td>\n",
       "    </tr>\n",
       "    <tr>\n",
       "      <th>5</th>\n",
       "      <td>2016-06-01</td>\n",
       "      <td>63</td>\n",
       "      <td>245.7</td>\n",
       "      <td>37.80</td>\n",
       "      <td>77.81</td>\n",
       "      <td>32</td>\n",
       "    </tr>\n",
       "    <tr>\n",
       "      <th>6</th>\n",
       "      <td>2016-07-01</td>\n",
       "      <td>110</td>\n",
       "      <td>429.0</td>\n",
       "      <td>66.00</td>\n",
       "      <td>86.67</td>\n",
       "      <td>30</td>\n",
       "    </tr>\n",
       "    <tr>\n",
       "      <th>7</th>\n",
       "      <td>2016-08-01</td>\n",
       "      <td>176</td>\n",
       "      <td>686.4</td>\n",
       "      <td>105.60</td>\n",
       "      <td>122.40</td>\n",
       "      <td>29</td>\n",
       "    </tr>\n",
       "    <tr>\n",
       "      <th>8</th>\n",
       "      <td>2016-09-01</td>\n",
       "      <td>357</td>\n",
       "      <td>1392.3</td>\n",
       "      <td>214.20</td>\n",
       "      <td>223.62</td>\n",
       "      <td>33</td>\n",
       "    </tr>\n",
       "    <tr>\n",
       "      <th>9</th>\n",
       "      <td>2016-10-01</td>\n",
       "      <td>235</td>\n",
       "      <td>916.5</td>\n",
       "      <td>141.00</td>\n",
       "      <td>152.54</td>\n",
       "      <td>29</td>\n",
       "    </tr>\n",
       "    <tr>\n",
       "      <th>10</th>\n",
       "      <td>2016-11-01</td>\n",
       "      <td>193</td>\n",
       "      <td>752.7</td>\n",
       "      <td>115.80</td>\n",
       "      <td>150.54</td>\n",
       "      <td>32</td>\n",
       "    </tr>\n",
       "    <tr>\n",
       "      <th>11</th>\n",
       "      <td>2016-12-01</td>\n",
       "      <td>344</td>\n",
       "      <td>1341.6</td>\n",
       "      <td>206.40</td>\n",
       "      <td>244.37</td>\n",
       "      <td>31</td>\n",
       "    </tr>\n",
       "    <tr>\n",
       "      <th>12</th>\n",
       "      <td>2017-01-01</td>\n",
       "      <td>347</td>\n",
       "      <td>1353.3</td>\n",
       "      <td>208.20</td>\n",
       "      <td>263.64</td>\n",
       "      <td>33</td>\n",
       "    </tr>\n",
       "    <tr>\n",
       "      <th>13</th>\n",
       "      <td>2017-02-01</td>\n",
       "      <td>330</td>\n",
       "      <td>1287.0</td>\n",
       "      <td>198.00</td>\n",
       "      <td>214.32</td>\n",
       "      <td>27</td>\n",
       "    </tr>\n",
       "    <tr>\n",
       "      <th>14</th>\n",
       "      <td>2017-03-01</td>\n",
       "      <td>185</td>\n",
       "      <td>1103.0</td>\n",
       "      <td>139.38</td>\n",
       "      <td>151.54</td>\n",
       "      <td>31</td>\n",
       "    </tr>\n",
       "    <tr>\n",
       "      <th>15</th>\n",
       "      <td>2017-04-01</td>\n",
       "      <td>179</td>\n",
       "      <td>704.0</td>\n",
       "      <td>109.26</td>\n",
       "      <td>118.79</td>\n",
       "      <td>29</td>\n",
       "    </tr>\n",
       "    <tr>\n",
       "      <th>16</th>\n",
       "      <td>2017-05-01</td>\n",
       "      <td>228</td>\n",
       "      <td>829.0</td>\n",
       "      <td>140.89</td>\n",
       "      <td>153.18</td>\n",
       "      <td>31</td>\n",
       "    </tr>\n",
       "    <tr>\n",
       "      <th>17</th>\n",
       "      <td>2017-06-01</td>\n",
       "      <td>359</td>\n",
       "      <td>1067.0</td>\n",
       "      <td>195.07</td>\n",
       "      <td>212.08</td>\n",
       "      <td>31</td>\n",
       "    </tr>\n",
       "    <tr>\n",
       "      <th>18</th>\n",
       "      <td>2017-07-01</td>\n",
       "      <td>468</td>\n",
       "      <td>1533.0</td>\n",
       "      <td>258.64</td>\n",
       "      <td>281.19</td>\n",
       "      <td>32</td>\n",
       "    </tr>\n",
       "    <tr>\n",
       "      <th>19</th>\n",
       "      <td>2017-08-01</td>\n",
       "      <td>400</td>\n",
       "      <td>1252.0</td>\n",
       "      <td>218.87</td>\n",
       "      <td>237.97</td>\n",
       "      <td>30</td>\n",
       "    </tr>\n",
       "    <tr>\n",
       "      <th>20</th>\n",
       "      <td>2017-09-01</td>\n",
       "      <td>432</td>\n",
       "      <td>1447.0</td>\n",
       "      <td>261.50</td>\n",
       "      <td>284.30</td>\n",
       "      <td>30</td>\n",
       "    </tr>\n",
       "    <tr>\n",
       "      <th>21</th>\n",
       "      <td>2017-10-01</td>\n",
       "      <td>253</td>\n",
       "      <td>777.0</td>\n",
       "      <td>158.83</td>\n",
       "      <td>172.69</td>\n",
       "      <td>31</td>\n",
       "    </tr>\n",
       "    <tr>\n",
       "      <th>22</th>\n",
       "      <td>2017-11-01</td>\n",
       "      <td>165</td>\n",
       "      <td>521.0</td>\n",
       "      <td>102.57</td>\n",
       "      <td>111.51</td>\n",
       "      <td>29</td>\n",
       "    </tr>\n",
       "    <tr>\n",
       "      <th>23</th>\n",
       "      <td>2017-12-01</td>\n",
       "      <td>186</td>\n",
       "      <td>912.0</td>\n",
       "      <td>139.27</td>\n",
       "      <td>151.42</td>\n",
       "      <td>31</td>\n",
       "    </tr>\n",
       "    <tr>\n",
       "      <th>24</th>\n",
       "      <td>2018-01-01</td>\n",
       "      <td>316</td>\n",
       "      <td>1869.0</td>\n",
       "      <td>245.88</td>\n",
       "      <td>267.32</td>\n",
       "      <td>33</td>\n",
       "    </tr>\n",
       "    <tr>\n",
       "      <th>25</th>\n",
       "      <td>2018-02-01</td>\n",
       "      <td>256</td>\n",
       "      <td>1229.0</td>\n",
       "      <td>185.20</td>\n",
       "      <td>201.35</td>\n",
       "      <td>29</td>\n",
       "    </tr>\n",
       "    <tr>\n",
       "      <th>26</th>\n",
       "      <td>2018-03-01</td>\n",
       "      <td>266</td>\n",
       "      <td>1337.0</td>\n",
       "      <td>194.50</td>\n",
       "      <td>202.91</td>\n",
       "      <td>26</td>\n",
       "    </tr>\n",
       "    <tr>\n",
       "      <th>27</th>\n",
       "      <td>2018-04-01</td>\n",
       "      <td>141</td>\n",
       "      <td>812.0</td>\n",
       "      <td>143.44</td>\n",
       "      <td>150.86</td>\n",
       "      <td>34</td>\n",
       "    </tr>\n",
       "    <tr>\n",
       "      <th>28</th>\n",
       "      <td>2018-05-01</td>\n",
       "      <td>167</td>\n",
       "      <td>791.0</td>\n",
       "      <td>154.70</td>\n",
       "      <td>163.07</td>\n",
       "      <td>29</td>\n",
       "    </tr>\n",
       "    <tr>\n",
       "      <th>29</th>\n",
       "      <td>2018-06-01</td>\n",
       "      <td>257</td>\n",
       "      <td>1051.0</td>\n",
       "      <td>208.55</td>\n",
       "      <td>219.76</td>\n",
       "      <td>30</td>\n",
       "    </tr>\n",
       "    <tr>\n",
       "      <th>30</th>\n",
       "      <td>2018-07-01</td>\n",
       "      <td>295</td>\n",
       "      <td>1482.0</td>\n",
       "      <td>269.93</td>\n",
       "      <td>283.98</td>\n",
       "      <td>33</td>\n",
       "    </tr>\n",
       "    <tr>\n",
       "      <th>31</th>\n",
       "      <td>2018-08-01</td>\n",
       "      <td>330</td>\n",
       "      <td>1470.0</td>\n",
       "      <td>275.71</td>\n",
       "      <td>290.15</td>\n",
       "      <td>29</td>\n",
       "    </tr>\n",
       "    <tr>\n",
       "      <th>32</th>\n",
       "      <td>2018-09-01</td>\n",
       "      <td>261</td>\n",
       "      <td>1375.0</td>\n",
       "      <td>245.48</td>\n",
       "      <td>257.96</td>\n",
       "      <td>26</td>\n",
       "    </tr>\n",
       "    <tr>\n",
       "      <th>33</th>\n",
       "      <td>2018-10-01</td>\n",
       "      <td>366</td>\n",
       "      <td>1705.0</td>\n",
       "      <td>311.34</td>\n",
       "      <td>327.19</td>\n",
       "      <td>25</td>\n",
       "    </tr>\n",
       "    <tr>\n",
       "      <th>34</th>\n",
       "      <td>2018-11-01</td>\n",
       "      <td>245</td>\n",
       "      <td>1036.0</td>\n",
       "      <td>184.40</td>\n",
       "      <td>193.49</td>\n",
       "      <td>30</td>\n",
       "    </tr>\n",
       "    <tr>\n",
       "      <th>35</th>\n",
       "      <td>2018-12-01</td>\n",
       "      <td>125</td>\n",
       "      <td>899.0</td>\n",
       "      <td>145.26</td>\n",
       "      <td>152.34</td>\n",
       "      <td>32</td>\n",
       "    </tr>\n",
       "    <tr>\n",
       "      <th>36</th>\n",
       "      <td>2019-01-01</td>\n",
       "      <td>151</td>\n",
       "      <td>1257.0</td>\n",
       "      <td>187.91</td>\n",
       "      <td>196.62</td>\n",
       "      <td>31</td>\n",
       "    </tr>\n",
       "    <tr>\n",
       "      <th>37</th>\n",
       "      <td>2019-02-01</td>\n",
       "      <td>121</td>\n",
       "      <td>1281.0</td>\n",
       "      <td>181.85</td>\n",
       "      <td>190.07</td>\n",
       "      <td>31</td>\n",
       "    </tr>\n",
       "    <tr>\n",
       "      <th>38</th>\n",
       "      <td>2019-03-01</td>\n",
       "      <td>128</td>\n",
       "      <td>1351.0</td>\n",
       "      <td>190.04</td>\n",
       "      <td>198.57</td>\n",
       "      <td>27</td>\n",
       "    </tr>\n",
       "    <tr>\n",
       "      <th>39</th>\n",
       "      <td>2019-04-01</td>\n",
       "      <td>95</td>\n",
       "      <td>683.0</td>\n",
       "      <td>111.62</td>\n",
       "      <td>115.15</td>\n",
       "      <td>31</td>\n",
       "    </tr>\n",
       "    <tr>\n",
       "      <th>40</th>\n",
       "      <td>2019-05-01</td>\n",
       "      <td>162</td>\n",
       "      <td>783.0</td>\n",
       "      <td>147.83</td>\n",
       "      <td>153.18</td>\n",
       "      <td>29</td>\n",
       "    </tr>\n",
       "    <tr>\n",
       "      <th>41</th>\n",
       "      <td>2019-06-01</td>\n",
       "      <td>131</td>\n",
       "      <td>722.0</td>\n",
       "      <td>127.51</td>\n",
       "      <td>138.53</td>\n",
       "      <td>31</td>\n",
       "    </tr>\n",
       "    <tr>\n",
       "      <th>42</th>\n",
       "      <td>2019-07-01</td>\n",
       "      <td>276</td>\n",
       "      <td>1254.0</td>\n",
       "      <td>219.52</td>\n",
       "      <td>238.48</td>\n",
       "      <td>31</td>\n",
       "    </tr>\n",
       "    <tr>\n",
       "      <th>43</th>\n",
       "      <td>2019-08-01</td>\n",
       "      <td>376</td>\n",
       "      <td>1636.0</td>\n",
       "      <td>284.90</td>\n",
       "      <td>309.65</td>\n",
       "      <td>30</td>\n",
       "    </tr>\n",
       "    <tr>\n",
       "      <th>44</th>\n",
       "      <td>2019-09-01</td>\n",
       "      <td>501</td>\n",
       "      <td>2139.0</td>\n",
       "      <td>371.61</td>\n",
       "      <td>403.89</td>\n",
       "      <td>34</td>\n",
       "    </tr>\n",
       "    <tr>\n",
       "      <th>45</th>\n",
       "      <td>2019-10-01</td>\n",
       "      <td>279</td>\n",
       "      <td>1309.0</td>\n",
       "      <td>224.52</td>\n",
       "      <td>244.03</td>\n",
       "      <td>27</td>\n",
       "    </tr>\n",
       "    <tr>\n",
       "      <th>46</th>\n",
       "      <td>2019-11-01</td>\n",
       "      <td>171</td>\n",
       "      <td>843.0</td>\n",
       "      <td>133.84</td>\n",
       "      <td>145.46</td>\n",
       "      <td>31</td>\n",
       "    </tr>\n",
       "    <tr>\n",
       "      <th>47</th>\n",
       "      <td>2019-12-01</td>\n",
       "      <td>99</td>\n",
       "      <td>927.0</td>\n",
       "      <td>128.12</td>\n",
       "      <td>139.26</td>\n",
       "      <td>32</td>\n",
       "    </tr>\n",
       "    <tr>\n",
       "      <th>48</th>\n",
       "      <td>2020-01-01</td>\n",
       "      <td>211</td>\n",
       "      <td>1761.0</td>\n",
       "      <td>231.71</td>\n",
       "      <td>251.85</td>\n",
       "      <td>31</td>\n",
       "    </tr>\n",
       "    <tr>\n",
       "      <th>49</th>\n",
       "      <td>2020-02-01</td>\n",
       "      <td>190</td>\n",
       "      <td>1635.0</td>\n",
       "      <td>210.86</td>\n",
       "      <td>229.18</td>\n",
       "      <td>32</td>\n",
       "    </tr>\n",
       "    <tr>\n",
       "      <th>50</th>\n",
       "      <td>2020-03-01</td>\n",
       "      <td>151</td>\n",
       "      <td>1179.0</td>\n",
       "      <td>156.56</td>\n",
       "      <td>170.16</td>\n",
       "      <td>29</td>\n",
       "    </tr>\n",
       "    <tr>\n",
       "      <th>51</th>\n",
       "      <td>2020-04-01</td>\n",
       "      <td>75</td>\n",
       "      <td>625.0</td>\n",
       "      <td>87.27</td>\n",
       "      <td>94.85</td>\n",
       "      <td>29</td>\n",
       "    </tr>\n",
       "    <tr>\n",
       "      <th>52</th>\n",
       "      <td>2020-05-01</td>\n",
       "      <td>147</td>\n",
       "      <td>686.0</td>\n",
       "      <td>124.39</td>\n",
       "      <td>135.19</td>\n",
       "      <td>29</td>\n",
       "    </tr>\n",
       "  </tbody>\n",
       "</table>\n",
       "</div>"
      ],
      "text/plain": [
       "    Bill_Date  On_peak  Off_peak  Usage_charge  Billed_amount  Billing_days\n",
       "0  2016-01-01      365    1423.5        219.00         247.73            31\n",
       "1  2016-02-01      292    1138.8        175.20         234.11            31\n",
       "2  2016-03-01      130     507.0         78.00         123.85            29\n",
       "3  2016-04-01      117     456.3         70.20         111.22            29\n",
       "4  2016-05-01      136     530.4         81.60         118.37            29\n",
       "5  2016-06-01       63     245.7         37.80          77.81            32\n",
       "6  2016-07-01      110     429.0         66.00          86.67            30\n",
       "7  2016-08-01      176     686.4        105.60         122.40            29\n",
       "8  2016-09-01      357    1392.3        214.20         223.62            33\n",
       "9  2016-10-01      235     916.5        141.00         152.54            29\n",
       "10 2016-11-01      193     752.7        115.80         150.54            32\n",
       "11 2016-12-01      344    1341.6        206.40         244.37            31\n",
       "12 2017-01-01      347    1353.3        208.20         263.64            33\n",
       "13 2017-02-01      330    1287.0        198.00         214.32            27\n",
       "14 2017-03-01      185    1103.0        139.38         151.54            31\n",
       "15 2017-04-01      179     704.0        109.26         118.79            29\n",
       "16 2017-05-01      228     829.0        140.89         153.18            31\n",
       "17 2017-06-01      359    1067.0        195.07         212.08            31\n",
       "18 2017-07-01      468    1533.0        258.64         281.19            32\n",
       "19 2017-08-01      400    1252.0        218.87         237.97            30\n",
       "20 2017-09-01      432    1447.0        261.50         284.30            30\n",
       "21 2017-10-01      253     777.0        158.83         172.69            31\n",
       "22 2017-11-01      165     521.0        102.57         111.51            29\n",
       "23 2017-12-01      186     912.0        139.27         151.42            31\n",
       "24 2018-01-01      316    1869.0        245.88         267.32            33\n",
       "25 2018-02-01      256    1229.0        185.20         201.35            29\n",
       "26 2018-03-01      266    1337.0        194.50         202.91            26\n",
       "27 2018-04-01      141     812.0        143.44         150.86            34\n",
       "28 2018-05-01      167     791.0        154.70         163.07            29\n",
       "29 2018-06-01      257    1051.0        208.55         219.76            30\n",
       "30 2018-07-01      295    1482.0        269.93         283.98            33\n",
       "31 2018-08-01      330    1470.0        275.71         290.15            29\n",
       "32 2018-09-01      261    1375.0        245.48         257.96            26\n",
       "33 2018-10-01      366    1705.0        311.34         327.19            25\n",
       "34 2018-11-01      245    1036.0        184.40         193.49            30\n",
       "35 2018-12-01      125     899.0        145.26         152.34            32\n",
       "36 2019-01-01      151    1257.0        187.91         196.62            31\n",
       "37 2019-02-01      121    1281.0        181.85         190.07            31\n",
       "38 2019-03-01      128    1351.0        190.04         198.57            27\n",
       "39 2019-04-01       95     683.0        111.62         115.15            31\n",
       "40 2019-05-01      162     783.0        147.83         153.18            29\n",
       "41 2019-06-01      131     722.0        127.51         138.53            31\n",
       "42 2019-07-01      276    1254.0        219.52         238.48            31\n",
       "43 2019-08-01      376    1636.0        284.90         309.65            30\n",
       "44 2019-09-01      501    2139.0        371.61         403.89            34\n",
       "45 2019-10-01      279    1309.0        224.52         244.03            27\n",
       "46 2019-11-01      171     843.0        133.84         145.46            31\n",
       "47 2019-12-01       99     927.0        128.12         139.26            32\n",
       "48 2020-01-01      211    1761.0        231.71         251.85            31\n",
       "49 2020-02-01      190    1635.0        210.86         229.18            32\n",
       "50 2020-03-01      151    1179.0        156.56         170.16            29\n",
       "51 2020-04-01       75     625.0         87.27          94.85            29\n",
       "52 2020-05-01      147     686.0        124.39         135.19            29"
      ]
     },
     "execution_count": 66,
     "metadata": {},
     "output_type": "execute_result"
    }
   ],
   "source": [
    "dataset"
   ]
  },
  {
   "cell_type": "code",
   "execution_count": 67,
   "id": "a506ece3",
   "metadata": {},
   "outputs": [
    {
     "data": {
      "text/plain": [
       "Bill_Date        datetime64[ns]\n",
       "On_peak                   int64\n",
       "Off_peak                float64\n",
       "Usage_charge            float64\n",
       "Billed_amount           float64\n",
       "Billing_days              int64\n",
       "dtype: object"
      ]
     },
     "execution_count": 67,
     "metadata": {},
     "output_type": "execute_result"
    }
   ],
   "source": [
    "dataset.dtypes"
   ]
  },
  {
   "cell_type": "code",
   "execution_count": 68,
   "id": "8d629001",
   "metadata": {},
   "outputs": [],
   "source": [
    "dataset.set_index(\"Bill_Date\",inplace=True)"
   ]
  },
  {
   "cell_type": "code",
   "execution_count": 69,
   "id": "ce866e0d",
   "metadata": {},
   "outputs": [
    {
     "data": {
      "text/html": [
       "<div>\n",
       "<style scoped>\n",
       "    .dataframe tbody tr th:only-of-type {\n",
       "        vertical-align: middle;\n",
       "    }\n",
       "\n",
       "    .dataframe tbody tr th {\n",
       "        vertical-align: top;\n",
       "    }\n",
       "\n",
       "    .dataframe thead th {\n",
       "        text-align: right;\n",
       "    }\n",
       "</style>\n",
       "<table border=\"1\" class=\"dataframe\">\n",
       "  <thead>\n",
       "    <tr style=\"text-align: right;\">\n",
       "      <th></th>\n",
       "      <th>On_peak</th>\n",
       "      <th>Off_peak</th>\n",
       "      <th>Usage_charge</th>\n",
       "      <th>Billed_amount</th>\n",
       "      <th>Billing_days</th>\n",
       "    </tr>\n",
       "    <tr>\n",
       "      <th>Bill_Date</th>\n",
       "      <th></th>\n",
       "      <th></th>\n",
       "      <th></th>\n",
       "      <th></th>\n",
       "      <th></th>\n",
       "    </tr>\n",
       "  </thead>\n",
       "  <tbody>\n",
       "    <tr>\n",
       "      <th>2016-01-01</th>\n",
       "      <td>365</td>\n",
       "      <td>1423.5</td>\n",
       "      <td>219.00</td>\n",
       "      <td>247.73</td>\n",
       "      <td>31</td>\n",
       "    </tr>\n",
       "    <tr>\n",
       "      <th>2016-02-01</th>\n",
       "      <td>292</td>\n",
       "      <td>1138.8</td>\n",
       "      <td>175.20</td>\n",
       "      <td>234.11</td>\n",
       "      <td>31</td>\n",
       "    </tr>\n",
       "    <tr>\n",
       "      <th>2016-03-01</th>\n",
       "      <td>130</td>\n",
       "      <td>507.0</td>\n",
       "      <td>78.00</td>\n",
       "      <td>123.85</td>\n",
       "      <td>29</td>\n",
       "    </tr>\n",
       "    <tr>\n",
       "      <th>2016-04-01</th>\n",
       "      <td>117</td>\n",
       "      <td>456.3</td>\n",
       "      <td>70.20</td>\n",
       "      <td>111.22</td>\n",
       "      <td>29</td>\n",
       "    </tr>\n",
       "    <tr>\n",
       "      <th>2016-05-01</th>\n",
       "      <td>136</td>\n",
       "      <td>530.4</td>\n",
       "      <td>81.60</td>\n",
       "      <td>118.37</td>\n",
       "      <td>29</td>\n",
       "    </tr>\n",
       "    <tr>\n",
       "      <th>2016-06-01</th>\n",
       "      <td>63</td>\n",
       "      <td>245.7</td>\n",
       "      <td>37.80</td>\n",
       "      <td>77.81</td>\n",
       "      <td>32</td>\n",
       "    </tr>\n",
       "    <tr>\n",
       "      <th>2016-07-01</th>\n",
       "      <td>110</td>\n",
       "      <td>429.0</td>\n",
       "      <td>66.00</td>\n",
       "      <td>86.67</td>\n",
       "      <td>30</td>\n",
       "    </tr>\n",
       "    <tr>\n",
       "      <th>2016-08-01</th>\n",
       "      <td>176</td>\n",
       "      <td>686.4</td>\n",
       "      <td>105.60</td>\n",
       "      <td>122.40</td>\n",
       "      <td>29</td>\n",
       "    </tr>\n",
       "    <tr>\n",
       "      <th>2016-09-01</th>\n",
       "      <td>357</td>\n",
       "      <td>1392.3</td>\n",
       "      <td>214.20</td>\n",
       "      <td>223.62</td>\n",
       "      <td>33</td>\n",
       "    </tr>\n",
       "    <tr>\n",
       "      <th>2016-10-01</th>\n",
       "      <td>235</td>\n",
       "      <td>916.5</td>\n",
       "      <td>141.00</td>\n",
       "      <td>152.54</td>\n",
       "      <td>29</td>\n",
       "    </tr>\n",
       "    <tr>\n",
       "      <th>2016-11-01</th>\n",
       "      <td>193</td>\n",
       "      <td>752.7</td>\n",
       "      <td>115.80</td>\n",
       "      <td>150.54</td>\n",
       "      <td>32</td>\n",
       "    </tr>\n",
       "    <tr>\n",
       "      <th>2016-12-01</th>\n",
       "      <td>344</td>\n",
       "      <td>1341.6</td>\n",
       "      <td>206.40</td>\n",
       "      <td>244.37</td>\n",
       "      <td>31</td>\n",
       "    </tr>\n",
       "    <tr>\n",
       "      <th>2017-01-01</th>\n",
       "      <td>347</td>\n",
       "      <td>1353.3</td>\n",
       "      <td>208.20</td>\n",
       "      <td>263.64</td>\n",
       "      <td>33</td>\n",
       "    </tr>\n",
       "    <tr>\n",
       "      <th>2017-02-01</th>\n",
       "      <td>330</td>\n",
       "      <td>1287.0</td>\n",
       "      <td>198.00</td>\n",
       "      <td>214.32</td>\n",
       "      <td>27</td>\n",
       "    </tr>\n",
       "    <tr>\n",
       "      <th>2017-03-01</th>\n",
       "      <td>185</td>\n",
       "      <td>1103.0</td>\n",
       "      <td>139.38</td>\n",
       "      <td>151.54</td>\n",
       "      <td>31</td>\n",
       "    </tr>\n",
       "    <tr>\n",
       "      <th>2017-04-01</th>\n",
       "      <td>179</td>\n",
       "      <td>704.0</td>\n",
       "      <td>109.26</td>\n",
       "      <td>118.79</td>\n",
       "      <td>29</td>\n",
       "    </tr>\n",
       "    <tr>\n",
       "      <th>2017-05-01</th>\n",
       "      <td>228</td>\n",
       "      <td>829.0</td>\n",
       "      <td>140.89</td>\n",
       "      <td>153.18</td>\n",
       "      <td>31</td>\n",
       "    </tr>\n",
       "    <tr>\n",
       "      <th>2017-06-01</th>\n",
       "      <td>359</td>\n",
       "      <td>1067.0</td>\n",
       "      <td>195.07</td>\n",
       "      <td>212.08</td>\n",
       "      <td>31</td>\n",
       "    </tr>\n",
       "    <tr>\n",
       "      <th>2017-07-01</th>\n",
       "      <td>468</td>\n",
       "      <td>1533.0</td>\n",
       "      <td>258.64</td>\n",
       "      <td>281.19</td>\n",
       "      <td>32</td>\n",
       "    </tr>\n",
       "    <tr>\n",
       "      <th>2017-08-01</th>\n",
       "      <td>400</td>\n",
       "      <td>1252.0</td>\n",
       "      <td>218.87</td>\n",
       "      <td>237.97</td>\n",
       "      <td>30</td>\n",
       "    </tr>\n",
       "    <tr>\n",
       "      <th>2017-09-01</th>\n",
       "      <td>432</td>\n",
       "      <td>1447.0</td>\n",
       "      <td>261.50</td>\n",
       "      <td>284.30</td>\n",
       "      <td>30</td>\n",
       "    </tr>\n",
       "    <tr>\n",
       "      <th>2017-10-01</th>\n",
       "      <td>253</td>\n",
       "      <td>777.0</td>\n",
       "      <td>158.83</td>\n",
       "      <td>172.69</td>\n",
       "      <td>31</td>\n",
       "    </tr>\n",
       "    <tr>\n",
       "      <th>2017-11-01</th>\n",
       "      <td>165</td>\n",
       "      <td>521.0</td>\n",
       "      <td>102.57</td>\n",
       "      <td>111.51</td>\n",
       "      <td>29</td>\n",
       "    </tr>\n",
       "    <tr>\n",
       "      <th>2017-12-01</th>\n",
       "      <td>186</td>\n",
       "      <td>912.0</td>\n",
       "      <td>139.27</td>\n",
       "      <td>151.42</td>\n",
       "      <td>31</td>\n",
       "    </tr>\n",
       "    <tr>\n",
       "      <th>2018-01-01</th>\n",
       "      <td>316</td>\n",
       "      <td>1869.0</td>\n",
       "      <td>245.88</td>\n",
       "      <td>267.32</td>\n",
       "      <td>33</td>\n",
       "    </tr>\n",
       "    <tr>\n",
       "      <th>2018-02-01</th>\n",
       "      <td>256</td>\n",
       "      <td>1229.0</td>\n",
       "      <td>185.20</td>\n",
       "      <td>201.35</td>\n",
       "      <td>29</td>\n",
       "    </tr>\n",
       "    <tr>\n",
       "      <th>2018-03-01</th>\n",
       "      <td>266</td>\n",
       "      <td>1337.0</td>\n",
       "      <td>194.50</td>\n",
       "      <td>202.91</td>\n",
       "      <td>26</td>\n",
       "    </tr>\n",
       "    <tr>\n",
       "      <th>2018-04-01</th>\n",
       "      <td>141</td>\n",
       "      <td>812.0</td>\n",
       "      <td>143.44</td>\n",
       "      <td>150.86</td>\n",
       "      <td>34</td>\n",
       "    </tr>\n",
       "    <tr>\n",
       "      <th>2018-05-01</th>\n",
       "      <td>167</td>\n",
       "      <td>791.0</td>\n",
       "      <td>154.70</td>\n",
       "      <td>163.07</td>\n",
       "      <td>29</td>\n",
       "    </tr>\n",
       "    <tr>\n",
       "      <th>2018-06-01</th>\n",
       "      <td>257</td>\n",
       "      <td>1051.0</td>\n",
       "      <td>208.55</td>\n",
       "      <td>219.76</td>\n",
       "      <td>30</td>\n",
       "    </tr>\n",
       "    <tr>\n",
       "      <th>2018-07-01</th>\n",
       "      <td>295</td>\n",
       "      <td>1482.0</td>\n",
       "      <td>269.93</td>\n",
       "      <td>283.98</td>\n",
       "      <td>33</td>\n",
       "    </tr>\n",
       "    <tr>\n",
       "      <th>2018-08-01</th>\n",
       "      <td>330</td>\n",
       "      <td>1470.0</td>\n",
       "      <td>275.71</td>\n",
       "      <td>290.15</td>\n",
       "      <td>29</td>\n",
       "    </tr>\n",
       "    <tr>\n",
       "      <th>2018-09-01</th>\n",
       "      <td>261</td>\n",
       "      <td>1375.0</td>\n",
       "      <td>245.48</td>\n",
       "      <td>257.96</td>\n",
       "      <td>26</td>\n",
       "    </tr>\n",
       "    <tr>\n",
       "      <th>2018-10-01</th>\n",
       "      <td>366</td>\n",
       "      <td>1705.0</td>\n",
       "      <td>311.34</td>\n",
       "      <td>327.19</td>\n",
       "      <td>25</td>\n",
       "    </tr>\n",
       "    <tr>\n",
       "      <th>2018-11-01</th>\n",
       "      <td>245</td>\n",
       "      <td>1036.0</td>\n",
       "      <td>184.40</td>\n",
       "      <td>193.49</td>\n",
       "      <td>30</td>\n",
       "    </tr>\n",
       "    <tr>\n",
       "      <th>2018-12-01</th>\n",
       "      <td>125</td>\n",
       "      <td>899.0</td>\n",
       "      <td>145.26</td>\n",
       "      <td>152.34</td>\n",
       "      <td>32</td>\n",
       "    </tr>\n",
       "    <tr>\n",
       "      <th>2019-01-01</th>\n",
       "      <td>151</td>\n",
       "      <td>1257.0</td>\n",
       "      <td>187.91</td>\n",
       "      <td>196.62</td>\n",
       "      <td>31</td>\n",
       "    </tr>\n",
       "    <tr>\n",
       "      <th>2019-02-01</th>\n",
       "      <td>121</td>\n",
       "      <td>1281.0</td>\n",
       "      <td>181.85</td>\n",
       "      <td>190.07</td>\n",
       "      <td>31</td>\n",
       "    </tr>\n",
       "    <tr>\n",
       "      <th>2019-03-01</th>\n",
       "      <td>128</td>\n",
       "      <td>1351.0</td>\n",
       "      <td>190.04</td>\n",
       "      <td>198.57</td>\n",
       "      <td>27</td>\n",
       "    </tr>\n",
       "    <tr>\n",
       "      <th>2019-04-01</th>\n",
       "      <td>95</td>\n",
       "      <td>683.0</td>\n",
       "      <td>111.62</td>\n",
       "      <td>115.15</td>\n",
       "      <td>31</td>\n",
       "    </tr>\n",
       "    <tr>\n",
       "      <th>2019-05-01</th>\n",
       "      <td>162</td>\n",
       "      <td>783.0</td>\n",
       "      <td>147.83</td>\n",
       "      <td>153.18</td>\n",
       "      <td>29</td>\n",
       "    </tr>\n",
       "    <tr>\n",
       "      <th>2019-06-01</th>\n",
       "      <td>131</td>\n",
       "      <td>722.0</td>\n",
       "      <td>127.51</td>\n",
       "      <td>138.53</td>\n",
       "      <td>31</td>\n",
       "    </tr>\n",
       "    <tr>\n",
       "      <th>2019-07-01</th>\n",
       "      <td>276</td>\n",
       "      <td>1254.0</td>\n",
       "      <td>219.52</td>\n",
       "      <td>238.48</td>\n",
       "      <td>31</td>\n",
       "    </tr>\n",
       "    <tr>\n",
       "      <th>2019-08-01</th>\n",
       "      <td>376</td>\n",
       "      <td>1636.0</td>\n",
       "      <td>284.90</td>\n",
       "      <td>309.65</td>\n",
       "      <td>30</td>\n",
       "    </tr>\n",
       "    <tr>\n",
       "      <th>2019-09-01</th>\n",
       "      <td>501</td>\n",
       "      <td>2139.0</td>\n",
       "      <td>371.61</td>\n",
       "      <td>403.89</td>\n",
       "      <td>34</td>\n",
       "    </tr>\n",
       "    <tr>\n",
       "      <th>2019-10-01</th>\n",
       "      <td>279</td>\n",
       "      <td>1309.0</td>\n",
       "      <td>224.52</td>\n",
       "      <td>244.03</td>\n",
       "      <td>27</td>\n",
       "    </tr>\n",
       "    <tr>\n",
       "      <th>2019-11-01</th>\n",
       "      <td>171</td>\n",
       "      <td>843.0</td>\n",
       "      <td>133.84</td>\n",
       "      <td>145.46</td>\n",
       "      <td>31</td>\n",
       "    </tr>\n",
       "    <tr>\n",
       "      <th>2019-12-01</th>\n",
       "      <td>99</td>\n",
       "      <td>927.0</td>\n",
       "      <td>128.12</td>\n",
       "      <td>139.26</td>\n",
       "      <td>32</td>\n",
       "    </tr>\n",
       "    <tr>\n",
       "      <th>2020-01-01</th>\n",
       "      <td>211</td>\n",
       "      <td>1761.0</td>\n",
       "      <td>231.71</td>\n",
       "      <td>251.85</td>\n",
       "      <td>31</td>\n",
       "    </tr>\n",
       "    <tr>\n",
       "      <th>2020-02-01</th>\n",
       "      <td>190</td>\n",
       "      <td>1635.0</td>\n",
       "      <td>210.86</td>\n",
       "      <td>229.18</td>\n",
       "      <td>32</td>\n",
       "    </tr>\n",
       "    <tr>\n",
       "      <th>2020-03-01</th>\n",
       "      <td>151</td>\n",
       "      <td>1179.0</td>\n",
       "      <td>156.56</td>\n",
       "      <td>170.16</td>\n",
       "      <td>29</td>\n",
       "    </tr>\n",
       "    <tr>\n",
       "      <th>2020-04-01</th>\n",
       "      <td>75</td>\n",
       "      <td>625.0</td>\n",
       "      <td>87.27</td>\n",
       "      <td>94.85</td>\n",
       "      <td>29</td>\n",
       "    </tr>\n",
       "    <tr>\n",
       "      <th>2020-05-01</th>\n",
       "      <td>147</td>\n",
       "      <td>686.0</td>\n",
       "      <td>124.39</td>\n",
       "      <td>135.19</td>\n",
       "      <td>29</td>\n",
       "    </tr>\n",
       "  </tbody>\n",
       "</table>\n",
       "</div>"
      ],
      "text/plain": [
       "            On_peak  Off_peak  Usage_charge  Billed_amount  Billing_days\n",
       "Bill_Date                                                               \n",
       "2016-01-01      365    1423.5        219.00         247.73            31\n",
       "2016-02-01      292    1138.8        175.20         234.11            31\n",
       "2016-03-01      130     507.0         78.00         123.85            29\n",
       "2016-04-01      117     456.3         70.20         111.22            29\n",
       "2016-05-01      136     530.4         81.60         118.37            29\n",
       "2016-06-01       63     245.7         37.80          77.81            32\n",
       "2016-07-01      110     429.0         66.00          86.67            30\n",
       "2016-08-01      176     686.4        105.60         122.40            29\n",
       "2016-09-01      357    1392.3        214.20         223.62            33\n",
       "2016-10-01      235     916.5        141.00         152.54            29\n",
       "2016-11-01      193     752.7        115.80         150.54            32\n",
       "2016-12-01      344    1341.6        206.40         244.37            31\n",
       "2017-01-01      347    1353.3        208.20         263.64            33\n",
       "2017-02-01      330    1287.0        198.00         214.32            27\n",
       "2017-03-01      185    1103.0        139.38         151.54            31\n",
       "2017-04-01      179     704.0        109.26         118.79            29\n",
       "2017-05-01      228     829.0        140.89         153.18            31\n",
       "2017-06-01      359    1067.0        195.07         212.08            31\n",
       "2017-07-01      468    1533.0        258.64         281.19            32\n",
       "2017-08-01      400    1252.0        218.87         237.97            30\n",
       "2017-09-01      432    1447.0        261.50         284.30            30\n",
       "2017-10-01      253     777.0        158.83         172.69            31\n",
       "2017-11-01      165     521.0        102.57         111.51            29\n",
       "2017-12-01      186     912.0        139.27         151.42            31\n",
       "2018-01-01      316    1869.0        245.88         267.32            33\n",
       "2018-02-01      256    1229.0        185.20         201.35            29\n",
       "2018-03-01      266    1337.0        194.50         202.91            26\n",
       "2018-04-01      141     812.0        143.44         150.86            34\n",
       "2018-05-01      167     791.0        154.70         163.07            29\n",
       "2018-06-01      257    1051.0        208.55         219.76            30\n",
       "2018-07-01      295    1482.0        269.93         283.98            33\n",
       "2018-08-01      330    1470.0        275.71         290.15            29\n",
       "2018-09-01      261    1375.0        245.48         257.96            26\n",
       "2018-10-01      366    1705.0        311.34         327.19            25\n",
       "2018-11-01      245    1036.0        184.40         193.49            30\n",
       "2018-12-01      125     899.0        145.26         152.34            32\n",
       "2019-01-01      151    1257.0        187.91         196.62            31\n",
       "2019-02-01      121    1281.0        181.85         190.07            31\n",
       "2019-03-01      128    1351.0        190.04         198.57            27\n",
       "2019-04-01       95     683.0        111.62         115.15            31\n",
       "2019-05-01      162     783.0        147.83         153.18            29\n",
       "2019-06-01      131     722.0        127.51         138.53            31\n",
       "2019-07-01      276    1254.0        219.52         238.48            31\n",
       "2019-08-01      376    1636.0        284.90         309.65            30\n",
       "2019-09-01      501    2139.0        371.61         403.89            34\n",
       "2019-10-01      279    1309.0        224.52         244.03            27\n",
       "2019-11-01      171     843.0        133.84         145.46            31\n",
       "2019-12-01       99     927.0        128.12         139.26            32\n",
       "2020-01-01      211    1761.0        231.71         251.85            31\n",
       "2020-02-01      190    1635.0        210.86         229.18            32\n",
       "2020-03-01      151    1179.0        156.56         170.16            29\n",
       "2020-04-01       75     625.0         87.27          94.85            29\n",
       "2020-05-01      147     686.0        124.39         135.19            29"
      ]
     },
     "execution_count": 69,
     "metadata": {},
     "output_type": "execute_result"
    }
   ],
   "source": [
    "dataset"
   ]
  },
  {
   "cell_type": "code",
   "execution_count": 70,
   "id": "033667fe",
   "metadata": {},
   "outputs": [],
   "source": [
    "data = dataset[\"Billed_amount\"]"
   ]
  },
  {
   "cell_type": "code",
   "execution_count": 71,
   "id": "31ee2050",
   "metadata": {},
   "outputs": [
    {
     "data": {
      "text/plain": [
       "Bill_Date\n",
       "2016-01-01    247.73\n",
       "2016-02-01    234.11\n",
       "2016-03-01    123.85\n",
       "2016-04-01    111.22\n",
       "2016-05-01    118.37\n",
       "2016-06-01     77.81\n",
       "2016-07-01     86.67\n",
       "2016-08-01    122.40\n",
       "2016-09-01    223.62\n",
       "2016-10-01    152.54\n",
       "2016-11-01    150.54\n",
       "2016-12-01    244.37\n",
       "2017-01-01    263.64\n",
       "2017-02-01    214.32\n",
       "2017-03-01    151.54\n",
       "2017-04-01    118.79\n",
       "2017-05-01    153.18\n",
       "2017-06-01    212.08\n",
       "2017-07-01    281.19\n",
       "2017-08-01    237.97\n",
       "2017-09-01    284.30\n",
       "2017-10-01    172.69\n",
       "2017-11-01    111.51\n",
       "2017-12-01    151.42\n",
       "2018-01-01    267.32\n",
       "2018-02-01    201.35\n",
       "2018-03-01    202.91\n",
       "2018-04-01    150.86\n",
       "2018-05-01    163.07\n",
       "2018-06-01    219.76\n",
       "2018-07-01    283.98\n",
       "2018-08-01    290.15\n",
       "2018-09-01    257.96\n",
       "2018-10-01    327.19\n",
       "2018-11-01    193.49\n",
       "2018-12-01    152.34\n",
       "2019-01-01    196.62\n",
       "2019-02-01    190.07\n",
       "2019-03-01    198.57\n",
       "2019-04-01    115.15\n",
       "2019-05-01    153.18\n",
       "2019-06-01    138.53\n",
       "2019-07-01    238.48\n",
       "2019-08-01    309.65\n",
       "2019-09-01    403.89\n",
       "2019-10-01    244.03\n",
       "2019-11-01    145.46\n",
       "2019-12-01    139.26\n",
       "2020-01-01    251.85\n",
       "2020-02-01    229.18\n",
       "2020-03-01    170.16\n",
       "2020-04-01     94.85\n",
       "2020-05-01    135.19\n",
       "Name: Billed_amount, dtype: float64"
      ]
     },
     "execution_count": 71,
     "metadata": {},
     "output_type": "execute_result"
    }
   ],
   "source": [
    "data"
   ]
  },
  {
   "cell_type": "markdown",
   "id": "452a6c5e",
   "metadata": {},
   "source": [
    "### Check if Stationary"
   ]
  },
  {
   "cell_type": "markdown",
   "id": "75a231c1",
   "metadata": {},
   "source": [
    "#### Look at Plots"
   ]
  },
  {
   "cell_type": "code",
   "execution_count": 72,
   "id": "5b385dff",
   "metadata": {},
   "outputs": [],
   "source": [
    "data.sort_index(inplace=True)"
   ]
  },
  {
   "cell_type": "code",
   "execution_count": 73,
   "id": "25b63d47",
   "metadata": {},
   "outputs": [
    {
     "data": {
      "image/png": "[encoded data removed]",
      "text/plain": [
       "<Figure size 1080x360 with 1 Axes>"
      ]
     },
     "metadata": {
      "needs_background": "light"
     },
     "output_type": "display_data"
    }
   ],
   "source": [
    "plt.figure(figsize = (15,5))\n",
    "plt.plot(data)\n",
    "plt.xlabel(\"Billed Date\")\n",
    "plt.ylabel(\"Billed Amount\")\n",
    "plt.show()"
   ]
  },
  {
   "cell_type": "markdown",
   "id": "a24d2146",
   "metadata": {},
   "source": [
    "#### Summary Statistics"
   ]
  },
  {
   "cell_type": "code",
   "execution_count": 74,
   "id": "edfc377e",
   "metadata": {},
   "outputs": [
    {
     "data": {
      "text/plain": [
       "Bill_Date\n",
       "2016-01-01    247.73\n",
       "2016-02-01    234.11\n",
       "2016-03-01    123.85\n",
       "2016-04-01    111.22\n",
       "2016-05-01    118.37\n",
       "Name: Billed_amount, dtype: float64"
      ]
     },
     "execution_count": 74,
     "metadata": {},
     "output_type": "execute_result"
    }
   ],
   "source": [
    "data.head()"
   ]
  },
  {
   "cell_type": "code",
   "execution_count": 75,
   "id": "7d462d85",
   "metadata": {},
   "outputs": [
    {
     "data": {
      "text/plain": [
       "167.056"
      ]
     },
     "execution_count": 75,
     "metadata": {},
     "output_type": "execute_result"
    }
   ],
   "source": [
    "data.head().mean()"
   ]
  },
  {
   "cell_type": "code",
   "execution_count": 76,
   "id": "74b5c295",
   "metadata": {},
   "outputs": [
    {
     "data": {
      "text/plain": [
       "Bill_Date\n",
       "2020-01-01    251.85\n",
       "2020-02-01    229.18\n",
       "2020-03-01    170.16\n",
       "2020-04-01     94.85\n",
       "2020-05-01    135.19\n",
       "Name: Billed_amount, dtype: float64"
      ]
     },
     "execution_count": 76,
     "metadata": {},
     "output_type": "execute_result"
    }
   ],
   "source": [
    "data.tail()"
   ]
  },
  {
   "cell_type": "code",
   "execution_count": 77,
   "id": "433a0343",
   "metadata": {},
   "outputs": [
    {
     "data": {
      "text/plain": [
       "176.246"
      ]
     },
     "execution_count": 77,
     "metadata": {},
     "output_type": "execute_result"
    }
   ],
   "source": [
    "data.tail().mean()"
   ]
  },
  {
   "cell_type": "code",
   "execution_count": 78,
   "id": "fff192d8",
   "metadata": {},
   "outputs": [
    {
     "data": {
      "text/plain": [
       "204.88199999999998"
      ]
     },
     "execution_count": 78,
     "metadata": {},
     "output_type": "execute_result"
    }
   ],
   "source": [
    "data[10:15].mean()"
   ]
  },
  {
   "cell_type": "code",
   "execution_count": 79,
   "id": "def90b6a",
   "metadata": {},
   "outputs": [
    {
     "data": {
      "text/plain": [
       "230.83"
      ]
     },
     "execution_count": 79,
     "metadata": {},
     "output_type": "execute_result"
    }
   ],
   "source": [
    "data[30:46].mean()"
   ]
  },
  {
   "cell_type": "code",
   "execution_count": 80,
   "id": "a4e375a7",
   "metadata": {},
   "outputs": [
    {
     "data": {
      "text/plain": [
       "4589.81928"
      ]
     },
     "execution_count": 80,
     "metadata": {},
     "output_type": "execute_result"
    }
   ],
   "source": [
    "data.head().var()"
   ]
  },
  {
   "cell_type": "code",
   "execution_count": 81,
   "id": "f6f3c2f7",
   "metadata": {},
   "outputs": [
    {
     "data": {
      "text/plain": [
       "4216.479130000001"
      ]
     },
     "execution_count": 81,
     "metadata": {},
     "output_type": "execute_result"
    }
   ],
   "source": [
    "data.tail().var()"
   ]
  },
  {
   "cell_type": "code",
   "execution_count": 82,
   "id": "4e7ac900",
   "metadata": {},
   "outputs": [
    {
     "data": {
      "text/plain": [
       "2724.82562"
      ]
     },
     "execution_count": 82,
     "metadata": {},
     "output_type": "execute_result"
    }
   ],
   "source": [
    "data[10:15].var()"
   ]
  },
  {
   "cell_type": "code",
   "execution_count": 83,
   "id": "f743957c",
   "metadata": {},
   "outputs": [
    {
     "data": {
      "text/plain": [
       "7744.2079511111115"
      ]
     },
     "execution_count": 83,
     "metadata": {},
     "output_type": "execute_result"
    }
   ],
   "source": [
    "data[35:45].var()"
   ]
  },
  {
   "cell_type": "markdown",
   "id": "598a4585",
   "metadata": {},
   "source": [
    "#### Statistical Test - Hypothesis Testing"
   ]
  },
  {
   "cell_type": "markdown",
   "id": "dcdcc2a6",
   "metadata": {},
   "source": [
    "##### ADFuller Test"
   ]
  },
  {
   "cell_type": "code",
   "execution_count": 84,
   "id": "09106f6c",
   "metadata": {},
   "outputs": [],
   "source": [
    "from statsmodels.tsa.stattools import adfuller"
   ]
  },
  {
   "cell_type": "code",
   "execution_count": 85,
   "id": "4260eaba",
   "metadata": {},
   "outputs": [],
   "source": [
    "result = adfuller(data)"
   ]
  },
  {
   "cell_type": "code",
   "execution_count": 86,
   "id": "90154eee",
   "metadata": {},
   "outputs": [],
   "source": [
    "# P-Value -- Significance Level or Probability Value\n",
    "p_cal = result[1]"
   ]
  },
  {
   "cell_type": "code",
   "execution_count": 87,
   "id": "9048fc89",
   "metadata": {},
   "outputs": [
    {
     "data": {
      "text/plain": [
       "0.0007799874491884334"
      ]
     },
     "execution_count": 87,
     "metadata": {},
     "output_type": "execute_result"
    }
   ],
   "source": [
    "p_cal"
   ]
  },
  {
   "cell_type": "code",
   "execution_count": 88,
   "id": "2cc4e5f8",
   "metadata": {},
   "outputs": [
    {
     "name": "stdout",
     "output_type": "stream",
     "text": [
      "Series is Stationary\n"
     ]
    }
   ],
   "source": [
    "if(p_cal>0.05):\n",
    "    print(\"Series is Not Stationary\")\n",
    "else:\n",
    "    print(\"Series is Stationary\")"
   ]
  },
  {
   "cell_type": "markdown",
   "id": "5e7ad52d",
   "metadata": {},
   "source": [
    "### Algorithms"
   ]
  },
  {
   "cell_type": "markdown",
   "id": "3967318d",
   "metadata": {},
   "source": [
    "##### Moving Average"
   ]
  },
  {
   "cell_type": "code",
   "execution_count": 89,
   "id": "6f3da223",
   "metadata": {},
   "outputs": [
    {
     "data": {
      "text/plain": [
       "'\\n - Moving Average(MA) OR Rolling Statistics\\n     - Prediction based on Lag or window\\n     - MA = sum(D)/n\\n      - n = number of periods in the moving average\\n      - D = Demand in period\\n\\n'"
      ]
     },
     "execution_count": 89,
     "metadata": {},
     "output_type": "execute_result"
    }
   ],
   "source": [
    "'''\n",
    " - Moving Average(MA) OR Rolling Statistics\n",
    "     - Prediction based on Lag or window\n",
    "     - MA = sum(D)/n\n",
    "      - n = number of periods in the moving average\n",
    "      - D = Demand in period\n",
    "\n",
    "'''"
   ]
  },
  {
   "cell_type": "code",
   "execution_count": 90,
   "id": "628c03a2",
   "metadata": {},
   "outputs": [
    {
     "data": {
      "text/plain": [
       "Bill_Date\n",
       "2016-01-01    247.73\n",
       "2016-02-01    234.11\n",
       "2016-03-01    123.85\n",
       "2016-04-01    111.22\n",
       "2016-05-01    118.37\n",
       "2016-06-01     77.81\n",
       "2016-07-01     86.67\n",
       "2016-08-01    122.40\n",
       "2016-09-01    223.62\n",
       "2016-10-01    152.54\n",
       "2016-11-01    150.54\n",
       "2016-12-01    244.37\n",
       "2017-01-01    263.64\n",
       "2017-02-01    214.32\n",
       "2017-03-01    151.54\n",
       "2017-04-01    118.79\n",
       "2017-05-01    153.18\n",
       "2017-06-01    212.08\n",
       "2017-07-01    281.19\n",
       "2017-08-01    237.97\n",
       "2017-09-01    284.30\n",
       "2017-10-01    172.69\n",
       "2017-11-01    111.51\n",
       "2017-12-01    151.42\n",
       "2018-01-01    267.32\n",
       "2018-02-01    201.35\n",
       "2018-03-01    202.91\n",
       "2018-04-01    150.86\n",
       "2018-05-01    163.07\n",
       "2018-06-01    219.76\n",
       "2018-07-01    283.98\n",
       "2018-08-01    290.15\n",
       "2018-09-01    257.96\n",
       "2018-10-01    327.19\n",
       "2018-11-01    193.49\n",
       "2018-12-01    152.34\n",
       "2019-01-01    196.62\n",
       "2019-02-01    190.07\n",
       "2019-03-01    198.57\n",
       "2019-04-01    115.15\n",
       "2019-05-01    153.18\n",
       "2019-06-01    138.53\n",
       "2019-07-01    238.48\n",
       "2019-08-01    309.65\n",
       "2019-09-01    403.89\n",
       "2019-10-01    244.03\n",
       "2019-11-01    145.46\n",
       "2019-12-01    139.26\n",
       "2020-01-01    251.85\n",
       "2020-02-01    229.18\n",
       "2020-03-01    170.16\n",
       "2020-04-01     94.85\n",
       "2020-05-01    135.19\n",
       "Name: Billed_amount, dtype: float64"
      ]
     },
     "execution_count": 90,
     "metadata": {},
     "output_type": "execute_result"
    }
   ],
   "source": [
    "data"
   ]
  },
  {
   "cell_type": "code",
   "execution_count": 91,
   "id": "3672ad78",
   "metadata": {},
   "outputs": [],
   "source": [
    "data =pd.DataFrame(data)"
   ]
  },
  {
   "cell_type": "code",
   "execution_count": 92,
   "id": "c1204de7",
   "metadata": {},
   "outputs": [],
   "source": [
    "data[\"MA_Data\"] = data[\"Billed_amount\"].rolling(window=2).mean().shift(1)"
   ]
  },
  {
   "cell_type": "code",
   "execution_count": 93,
   "id": "0f5945e8",
   "metadata": {},
   "outputs": [
    {
     "data": {
      "text/html": [
       "<div>\n",
       "<style scoped>\n",
       "    .dataframe tbody tr th:only-of-type {\n",
       "        vertical-align: middle;\n",
       "    }\n",
       "\n",
       "    .dataframe tbody tr th {\n",
       "        vertical-align: top;\n",
       "    }\n",
       "\n",
       "    .dataframe thead th {\n",
       "        text-align: right;\n",
       "    }\n",
       "</style>\n",
       "<table border=\"1\" class=\"dataframe\">\n",
       "  <thead>\n",
       "    <tr style=\"text-align: right;\">\n",
       "      <th></th>\n",
       "      <th>Billed_amount</th>\n",
       "      <th>MA_Data</th>\n",
       "    </tr>\n",
       "    <tr>\n",
       "      <th>Bill_Date</th>\n",
       "      <th></th>\n",
       "      <th></th>\n",
       "    </tr>\n",
       "  </thead>\n",
       "  <tbody>\n",
       "    <tr>\n",
       "      <th>2016-01-01</th>\n",
       "      <td>247.73</td>\n",
       "      <td>NaN</td>\n",
       "    </tr>\n",
       "    <tr>\n",
       "      <th>2016-02-01</th>\n",
       "      <td>234.11</td>\n",
       "      <td>NaN</td>\n",
       "    </tr>\n",
       "    <tr>\n",
       "      <th>2016-03-01</th>\n",
       "      <td>123.85</td>\n",
       "      <td>240.920</td>\n",
       "    </tr>\n",
       "    <tr>\n",
       "      <th>2016-04-01</th>\n",
       "      <td>111.22</td>\n",
       "      <td>178.980</td>\n",
       "    </tr>\n",
       "    <tr>\n",
       "      <th>2016-05-01</th>\n",
       "      <td>118.37</td>\n",
       "      <td>117.535</td>\n",
       "    </tr>\n",
       "    <tr>\n",
       "      <th>2016-06-01</th>\n",
       "      <td>77.81</td>\n",
       "      <td>114.795</td>\n",
       "    </tr>\n",
       "    <tr>\n",
       "      <th>2016-07-01</th>\n",
       "      <td>86.67</td>\n",
       "      <td>98.090</td>\n",
       "    </tr>\n",
       "    <tr>\n",
       "      <th>2016-08-01</th>\n",
       "      <td>122.40</td>\n",
       "      <td>82.240</td>\n",
       "    </tr>\n",
       "    <tr>\n",
       "      <th>2016-09-01</th>\n",
       "      <td>223.62</td>\n",
       "      <td>104.535</td>\n",
       "    </tr>\n",
       "    <tr>\n",
       "      <th>2016-10-01</th>\n",
       "      <td>152.54</td>\n",
       "      <td>173.010</td>\n",
       "    </tr>\n",
       "    <tr>\n",
       "      <th>2016-11-01</th>\n",
       "      <td>150.54</td>\n",
       "      <td>188.080</td>\n",
       "    </tr>\n",
       "    <tr>\n",
       "      <th>2016-12-01</th>\n",
       "      <td>244.37</td>\n",
       "      <td>151.540</td>\n",
       "    </tr>\n",
       "    <tr>\n",
       "      <th>2017-01-01</th>\n",
       "      <td>263.64</td>\n",
       "      <td>197.455</td>\n",
       "    </tr>\n",
       "    <tr>\n",
       "      <th>2017-02-01</th>\n",
       "      <td>214.32</td>\n",
       "      <td>254.005</td>\n",
       "    </tr>\n",
       "    <tr>\n",
       "      <th>2017-03-01</th>\n",
       "      <td>151.54</td>\n",
       "      <td>238.980</td>\n",
       "    </tr>\n",
       "    <tr>\n",
       "      <th>2017-04-01</th>\n",
       "      <td>118.79</td>\n",
       "      <td>182.930</td>\n",
       "    </tr>\n",
       "    <tr>\n",
       "      <th>2017-05-01</th>\n",
       "      <td>153.18</td>\n",
       "      <td>135.165</td>\n",
       "    </tr>\n",
       "    <tr>\n",
       "      <th>2017-06-01</th>\n",
       "      <td>212.08</td>\n",
       "      <td>135.985</td>\n",
       "    </tr>\n",
       "    <tr>\n",
       "      <th>2017-07-01</th>\n",
       "      <td>281.19</td>\n",
       "      <td>182.630</td>\n",
       "    </tr>\n",
       "    <tr>\n",
       "      <th>2017-08-01</th>\n",
       "      <td>237.97</td>\n",
       "      <td>246.635</td>\n",
       "    </tr>\n",
       "    <tr>\n",
       "      <th>2017-09-01</th>\n",
       "      <td>284.30</td>\n",
       "      <td>259.580</td>\n",
       "    </tr>\n",
       "    <tr>\n",
       "      <th>2017-10-01</th>\n",
       "      <td>172.69</td>\n",
       "      <td>261.135</td>\n",
       "    </tr>\n",
       "    <tr>\n",
       "      <th>2017-11-01</th>\n",
       "      <td>111.51</td>\n",
       "      <td>228.495</td>\n",
       "    </tr>\n",
       "    <tr>\n",
       "      <th>2017-12-01</th>\n",
       "      <td>151.42</td>\n",
       "      <td>142.100</td>\n",
       "    </tr>\n",
       "    <tr>\n",
       "      <th>2018-01-01</th>\n",
       "      <td>267.32</td>\n",
       "      <td>131.465</td>\n",
       "    </tr>\n",
       "    <tr>\n",
       "      <th>2018-02-01</th>\n",
       "      <td>201.35</td>\n",
       "      <td>209.370</td>\n",
       "    </tr>\n",
       "    <tr>\n",
       "      <th>2018-03-01</th>\n",
       "      <td>202.91</td>\n",
       "      <td>234.335</td>\n",
       "    </tr>\n",
       "    <tr>\n",
       "      <th>2018-04-01</th>\n",
       "      <td>150.86</td>\n",
       "      <td>202.130</td>\n",
       "    </tr>\n",
       "    <tr>\n",
       "      <th>2018-05-01</th>\n",
       "      <td>163.07</td>\n",
       "      <td>176.885</td>\n",
       "    </tr>\n",
       "    <tr>\n",
       "      <th>2018-06-01</th>\n",
       "      <td>219.76</td>\n",
       "      <td>156.965</td>\n",
       "    </tr>\n",
       "    <tr>\n",
       "      <th>2018-07-01</th>\n",
       "      <td>283.98</td>\n",
       "      <td>191.415</td>\n",
       "    </tr>\n",
       "    <tr>\n",
       "      <th>2018-08-01</th>\n",
       "      <td>290.15</td>\n",
       "      <td>251.870</td>\n",
       "    </tr>\n",
       "    <tr>\n",
       "      <th>2018-09-01</th>\n",
       "      <td>257.96</td>\n",
       "      <td>287.065</td>\n",
       "    </tr>\n",
       "    <tr>\n",
       "      <th>2018-10-01</th>\n",
       "      <td>327.19</td>\n",
       "      <td>274.055</td>\n",
       "    </tr>\n",
       "    <tr>\n",
       "      <th>2018-11-01</th>\n",
       "      <td>193.49</td>\n",
       "      <td>292.575</td>\n",
       "    </tr>\n",
       "    <tr>\n",
       "      <th>2018-12-01</th>\n",
       "      <td>152.34</td>\n",
       "      <td>260.340</td>\n",
       "    </tr>\n",
       "    <tr>\n",
       "      <th>2019-01-01</th>\n",
       "      <td>196.62</td>\n",
       "      <td>172.915</td>\n",
       "    </tr>\n",
       "    <tr>\n",
       "      <th>2019-02-01</th>\n",
       "      <td>190.07</td>\n",
       "      <td>174.480</td>\n",
       "    </tr>\n",
       "    <tr>\n",
       "      <th>2019-03-01</th>\n",
       "      <td>198.57</td>\n",
       "      <td>193.345</td>\n",
       "    </tr>\n",
       "    <tr>\n",
       "      <th>2019-04-01</th>\n",
       "      <td>115.15</td>\n",
       "      <td>194.320</td>\n",
       "    </tr>\n",
       "    <tr>\n",
       "      <th>2019-05-01</th>\n",
       "      <td>153.18</td>\n",
       "      <td>156.860</td>\n",
       "    </tr>\n",
       "    <tr>\n",
       "      <th>2019-06-01</th>\n",
       "      <td>138.53</td>\n",
       "      <td>134.165</td>\n",
       "    </tr>\n",
       "    <tr>\n",
       "      <th>2019-07-01</th>\n",
       "      <td>238.48</td>\n",
       "      <td>145.855</td>\n",
       "    </tr>\n",
       "    <tr>\n",
       "      <th>2019-08-01</th>\n",
       "      <td>309.65</td>\n",
       "      <td>188.505</td>\n",
       "    </tr>\n",
       "    <tr>\n",
       "      <th>2019-09-01</th>\n",
       "      <td>403.89</td>\n",
       "      <td>274.065</td>\n",
       "    </tr>\n",
       "    <tr>\n",
       "      <th>2019-10-01</th>\n",
       "      <td>244.03</td>\n",
       "      <td>356.770</td>\n",
       "    </tr>\n",
       "    <tr>\n",
       "      <th>2019-11-01</th>\n",
       "      <td>145.46</td>\n",
       "      <td>323.960</td>\n",
       "    </tr>\n",
       "    <tr>\n",
       "      <th>2019-12-01</th>\n",
       "      <td>139.26</td>\n",
       "      <td>194.745</td>\n",
       "    </tr>\n",
       "    <tr>\n",
       "      <th>2020-01-01</th>\n",
       "      <td>251.85</td>\n",
       "      <td>142.360</td>\n",
       "    </tr>\n",
       "    <tr>\n",
       "      <th>2020-02-01</th>\n",
       "      <td>229.18</td>\n",
       "      <td>195.555</td>\n",
       "    </tr>\n",
       "    <tr>\n",
       "      <th>2020-03-01</th>\n",
       "      <td>170.16</td>\n",
       "      <td>240.515</td>\n",
       "    </tr>\n",
       "    <tr>\n",
       "      <th>2020-04-01</th>\n",
       "      <td>94.85</td>\n",
       "      <td>199.670</td>\n",
       "    </tr>\n",
       "    <tr>\n",
       "      <th>2020-05-01</th>\n",
       "      <td>135.19</td>\n",
       "      <td>132.505</td>\n",
       "    </tr>\n",
       "  </tbody>\n",
       "</table>\n",
       "</div>"
      ],
      "text/plain": [
       "            Billed_amount  MA_Data\n",
       "Bill_Date                         \n",
       "2016-01-01         247.73      NaN\n",
       "2016-02-01         234.11      NaN\n",
       "2016-03-01         123.85  240.920\n",
       "2016-04-01         111.22  178.980\n",
       "2016-05-01         118.37  117.535\n",
       "2016-06-01          77.81  114.795\n",
       "2016-07-01          86.67   98.090\n",
       "2016-08-01         122.40   82.240\n",
       "2016-09-01         223.62  104.535\n",
       "2016-10-01         152.54  173.010\n",
       "2016-11-01         150.54  188.080\n",
       "2016-12-01         244.37  151.540\n",
       "2017-01-01         263.64  197.455\n",
       "2017-02-01         214.32  254.005\n",
       "2017-03-01         151.54  238.980\n",
       "2017-04-01         118.79  182.930\n",
       "2017-05-01         153.18  135.165\n",
       "2017-06-01         212.08  135.985\n",
       "2017-07-01         281.19  182.630\n",
       "2017-08-01         237.97  246.635\n",
       "2017-09-01         284.30  259.580\n",
       "2017-10-01         172.69  261.135\n",
       "2017-11-01         111.51  228.495\n",
       "2017-12-01         151.42  142.100\n",
       "2018-01-01         267.32  131.465\n",
       "2018-02-01         201.35  209.370\n",
       "2018-03-01         202.91  234.335\n",
       "2018-04-01         150.86  202.130\n",
       "2018-05-01         163.07  176.885\n",
       "2018-06-01         219.76  156.965\n",
       "2018-07-01         283.98  191.415\n",
       "2018-08-01         290.15  251.870\n",
       "2018-09-01         257.96  287.065\n",
       "2018-10-01         327.19  274.055\n",
       "2018-11-01         193.49  292.575\n",
       "2018-12-01         152.34  260.340\n",
       "2019-01-01         196.62  172.915\n",
       "2019-02-01         190.07  174.480\n",
       "2019-03-01         198.57  193.345\n",
       "2019-04-01         115.15  194.320\n",
       "2019-05-01         153.18  156.860\n",
       "2019-06-01         138.53  134.165\n",
       "2019-07-01         238.48  145.855\n",
       "2019-08-01         309.65  188.505\n",
       "2019-09-01         403.89  274.065\n",
       "2019-10-01         244.03  356.770\n",
       "2019-11-01         145.46  323.960\n",
       "2019-12-01         139.26  194.745\n",
       "2020-01-01         251.85  142.360\n",
       "2020-02-01         229.18  195.555\n",
       "2020-03-01         170.16  240.515\n",
       "2020-04-01          94.85  199.670\n",
       "2020-05-01         135.19  132.505"
      ]
     },
     "execution_count": 93,
     "metadata": {},
     "output_type": "execute_result"
    }
   ],
   "source": [
    "data"
   ]
  },
  {
   "cell_type": "code",
   "execution_count": 94,
   "id": "4d84f1f5",
   "metadata": {},
   "outputs": [
    {
     "data": {
      "image/png": "[encoded data removed]",
      "text/plain": [
       "<Figure size 1440x360 with 1 Axes>"
      ]
     },
     "metadata": {
      "needs_background": "light"
     },
     "output_type": "display_data"
    }
   ],
   "source": [
    "plt.figure(figsize = (20,5))\n",
    "plt.plot(data[\"Billed_amount\"],label=\"Actual Billed Amount\")\n",
    "plt.plot(data[\"MA_Data\"],label=\"Moving Average\")\n",
    "plt.legend()\n",
    "plt.show()"
   ]
  },
  {
   "cell_type": "markdown",
   "id": "aa93713a",
   "metadata": {},
   "source": [
    "#### Auto Regression - Algorithm"
   ]
  },
  {
   "cell_type": "code",
   "execution_count": 95,
   "id": "d7feeb87",
   "metadata": {},
   "outputs": [
    {
     "data": {
      "text/plain": [
       "'\\ny = mx+c\\nxt = m(xt-1)+c\\nxt+1 = m1(xt) + m2(xt-1) + m3(xt-2) +....+ c + e(error parameter)\\ne = white noice\\n\\n'"
      ]
     },
     "execution_count": 95,
     "metadata": {},
     "output_type": "execute_result"
    }
   ],
   "source": [
    "'''\n",
    "y = mx+c\n",
    "xt = m(xt-1)+c\n",
    "xt+1 = m1(xt) + m2(xt-1) + m3(xt-2) +....+ c + e(error parameter)\n",
    "e = white noice\n",
    "\n",
    "'''"
   ]
  },
  {
   "cell_type": "code",
   "execution_count": 96,
   "id": "0c26b63a",
   "metadata": {},
   "outputs": [
    {
     "ename": "NameError",
     "evalue": "name 'statsmodels' is not defined",
     "output_type": "error",
     "traceback": [
      "\u001b[0;31m---------------------------------------------------------------------------\u001b[0m",
      "\u001b[0;31mNameError\u001b[0m                                 Traceback (most recent call last)",
      "\u001b[0;32m<ipython-input-96-9b418bd62b6d>\u001b[0m in \u001b[0;36m<module>\u001b[0;34m\u001b[0m\n\u001b[0;32m----> 1\u001b[0;31m \u001b[0mstatsmodels\u001b[0m\u001b[0;34m.\u001b[0m\u001b[0m__version__\u001b[0m\u001b[0;34m\u001b[0m\u001b[0;34m\u001b[0m\u001b[0m\n\u001b[0m",
      "\u001b[0;31mNameError\u001b[0m: name 'statsmodels' is not defined"
     ]
    }
   ],
   "source": [
    "statsmodels.__version__"
   ]
  },
  {
   "cell_type": "code",
   "execution_count": 97,
   "id": "7fc310d6",
   "metadata": {},
   "outputs": [],
   "source": [
    "from statsmodels.tsa.ar_model import AutoReg"
   ]
  },
  {
   "cell_type": "code",
   "execution_count": 98,
   "id": "7559aeeb",
   "metadata": {},
   "outputs": [],
   "source": [
    "data = data[\"Billed_amount\"]"
   ]
  },
  {
   "cell_type": "code",
   "execution_count": 99,
   "id": "1d41d0a3",
   "metadata": {},
   "outputs": [
    {
     "data": {
      "text/plain": [
       "Bill_Date\n",
       "2016-01-01    247.73\n",
       "2016-02-01    234.11\n",
       "2016-03-01    123.85\n",
       "2016-04-01    111.22\n",
       "2016-05-01    118.37\n",
       "2016-06-01     77.81\n",
       "2016-07-01     86.67\n",
       "2016-08-01    122.40\n",
       "2016-09-01    223.62\n",
       "2016-10-01    152.54\n",
       "2016-11-01    150.54\n",
       "2016-12-01    244.37\n",
       "2017-01-01    263.64\n",
       "2017-02-01    214.32\n",
       "2017-03-01    151.54\n",
       "2017-04-01    118.79\n",
       "2017-05-01    153.18\n",
       "2017-06-01    212.08\n",
       "2017-07-01    281.19\n",
       "2017-08-01    237.97\n",
       "2017-09-01    284.30\n",
       "2017-10-01    172.69\n",
       "2017-11-01    111.51\n",
       "2017-12-01    151.42\n",
       "2018-01-01    267.32\n",
       "2018-02-01    201.35\n",
       "2018-03-01    202.91\n",
       "2018-04-01    150.86\n",
       "2018-05-01    163.07\n",
       "2018-06-01    219.76\n",
       "2018-07-01    283.98\n",
       "2018-08-01    290.15\n",
       "2018-09-01    257.96\n",
       "2018-10-01    327.19\n",
       "2018-11-01    193.49\n",
       "2018-12-01    152.34\n",
       "2019-01-01    196.62\n",
       "2019-02-01    190.07\n",
       "2019-03-01    198.57\n",
       "2019-04-01    115.15\n",
       "2019-05-01    153.18\n",
       "2019-06-01    138.53\n",
       "2019-07-01    238.48\n",
       "2019-08-01    309.65\n",
       "2019-09-01    403.89\n",
       "2019-10-01    244.03\n",
       "2019-11-01    145.46\n",
       "2019-12-01    139.26\n",
       "2020-01-01    251.85\n",
       "2020-02-01    229.18\n",
       "2020-03-01    170.16\n",
       "2020-04-01     94.85\n",
       "2020-05-01    135.19\n",
       "Name: Billed_amount, dtype: float64"
      ]
     },
     "execution_count": 99,
     "metadata": {},
     "output_type": "execute_result"
    }
   ],
   "source": [
    "data"
   ]
  },
  {
   "cell_type": "code",
   "execution_count": 100,
   "id": "e2cbb7b0",
   "metadata": {},
   "outputs": [
    {
     "data": {
      "text/plain": [
       "(53,)"
      ]
     },
     "execution_count": 100,
     "metadata": {},
     "output_type": "execute_result"
    }
   ],
   "source": [
    "data.shape"
   ]
  },
  {
   "cell_type": "code",
   "execution_count": 101,
   "id": "6694b21c",
   "metadata": {},
   "outputs": [
    {
     "data": {
      "text/plain": [
       "53"
      ]
     },
     "execution_count": 101,
     "metadata": {},
     "output_type": "execute_result"
    }
   ],
   "source": [
    "len(data)"
   ]
  },
  {
   "cell_type": "code",
   "execution_count": 102,
   "id": "ffe62de6",
   "metadata": {},
   "outputs": [],
   "source": [
    "test_threshold = len(data)-6"
   ]
  },
  {
   "cell_type": "code",
   "execution_count": 103,
   "id": "ebd7adc9",
   "metadata": {},
   "outputs": [
    {
     "data": {
      "text/plain": [
       "47"
      ]
     },
     "execution_count": 103,
     "metadata": {},
     "output_type": "execute_result"
    }
   ],
   "source": [
    "test_threshold"
   ]
  },
  {
   "cell_type": "code",
   "execution_count": 104,
   "id": "650cd7ab",
   "metadata": {},
   "outputs": [],
   "source": [
    "train = data[:test_threshold]"
   ]
  },
  {
   "cell_type": "code",
   "execution_count": 105,
   "id": "69e563a6",
   "metadata": {},
   "outputs": [
    {
     "data": {
      "text/plain": [
       "(47,)"
      ]
     },
     "execution_count": 105,
     "metadata": {},
     "output_type": "execute_result"
    }
   ],
   "source": [
    "train.shape"
   ]
  },
  {
   "cell_type": "code",
   "execution_count": 106,
   "id": "35afa277",
   "metadata": {},
   "outputs": [],
   "source": [
    "test = data[test_threshold:]"
   ]
  },
  {
   "cell_type": "code",
   "execution_count": 107,
   "id": "23a03673",
   "metadata": {},
   "outputs": [
    {
     "data": {
      "text/plain": [
       "(6,)"
      ]
     },
     "execution_count": 107,
     "metadata": {},
     "output_type": "execute_result"
    }
   ],
   "source": [
    "test.shape"
   ]
  },
  {
   "cell_type": "code",
   "execution_count": 108,
   "id": "09457706",
   "metadata": {},
   "outputs": [
    {
     "data": {
      "text/plain": [
       "Bill_Date\n",
       "2016-01-01    247.73\n",
       "2016-02-01    234.11\n",
       "2016-03-01    123.85\n",
       "2016-04-01    111.22\n",
       "2016-05-01    118.37\n",
       "2016-06-01     77.81\n",
       "2016-07-01     86.67\n",
       "2016-08-01    122.40\n",
       "2016-09-01    223.62\n",
       "2016-10-01    152.54\n",
       "2016-11-01    150.54\n",
       "2016-12-01    244.37\n",
       "2017-01-01    263.64\n",
       "2017-02-01    214.32\n",
       "2017-03-01    151.54\n",
       "2017-04-01    118.79\n",
       "2017-05-01    153.18\n",
       "2017-06-01    212.08\n",
       "2017-07-01    281.19\n",
       "2017-08-01    237.97\n",
       "2017-09-01    284.30\n",
       "2017-10-01    172.69\n",
       "2017-11-01    111.51\n",
       "2017-12-01    151.42\n",
       "2018-01-01    267.32\n",
       "2018-02-01    201.35\n",
       "2018-03-01    202.91\n",
       "2018-04-01    150.86\n",
       "2018-05-01    163.07\n",
       "2018-06-01    219.76\n",
       "2018-07-01    283.98\n",
       "2018-08-01    290.15\n",
       "2018-09-01    257.96\n",
       "2018-10-01    327.19\n",
       "2018-11-01    193.49\n",
       "2018-12-01    152.34\n",
       "2019-01-01    196.62\n",
       "2019-02-01    190.07\n",
       "2019-03-01    198.57\n",
       "2019-04-01    115.15\n",
       "2019-05-01    153.18\n",
       "2019-06-01    138.53\n",
       "2019-07-01    238.48\n",
       "2019-08-01    309.65\n",
       "2019-09-01    403.89\n",
       "2019-10-01    244.03\n",
       "2019-11-01    145.46\n",
       "2019-12-01    139.26\n",
       "Name: Billed_amount, dtype: float64"
      ]
     },
     "execution_count": 108,
     "metadata": {},
     "output_type": "execute_result"
    }
   ],
   "source": [
    "data[(data.index >= \"2016-01-01\") & (data.index < \"2020-01-01\")]"
   ]
  },
  {
   "cell_type": "code",
   "execution_count": 109,
   "id": "f000e223",
   "metadata": {},
   "outputs": [
    {
     "name": "stderr",
     "output_type": "stream",
     "text": [
      "/Users/SyeedSyed/anaconda3/lib/python3.8/site-packages/statsmodels/tsa/base/tsa_model.py:524: ValueWarning: No frequency information was provided, so inferred frequency MS will be used.\n",
      "  warnings.warn('No frequency information was'\n",
      "/Users/SyeedSyed/anaconda3/lib/python3.8/site-packages/statsmodels/tsa/ar_model.py:248: FutureWarning: The parameter names will change after 0.12 is released. Set old_names to False to use the new names now. Set old_names to True to use the old names. \n",
      "  warnings.warn(\n"
     ]
    }
   ],
   "source": [
    "auto_reg_model = AutoReg(train,lags=3)"
   ]
  },
  {
   "cell_type": "code",
   "execution_count": 110,
   "id": "2dfb9a2f",
   "metadata": {},
   "outputs": [],
   "source": [
    "# Fit method will return the trained model.\n",
    "auto_reg_model = auto_reg_model.fit()"
   ]
  },
  {
   "cell_type": "code",
   "execution_count": 111,
   "id": "9aef8421",
   "metadata": {},
   "outputs": [
    {
     "data": {
      "text/plain": [
       "<statsmodels.tsa.ar_model.AutoRegResultsWrapper at 0x11cd50a60>"
      ]
     },
     "execution_count": 111,
     "metadata": {},
     "output_type": "execute_result"
    }
   ],
   "source": [
    "#--Trained Model\n",
    "auto_reg_model"
   ]
  },
  {
   "cell_type": "markdown",
   "id": "8dcd14fe",
   "metadata": {},
   "source": [
    "### Prediction"
   ]
  },
  {
   "cell_type": "code",
   "execution_count": 112,
   "id": "0ca0bb4a",
   "metadata": {},
   "outputs": [
    {
     "name": "stderr",
     "output_type": "stream",
     "text": [
      "/Users/SyeedSyed/anaconda3/lib/python3.8/site-packages/statsmodels/tsa/deterministic.py:147: UserWarning: Only PeriodIndexes, DatetimeIndexes with a frequency set, RangesIndexes, and Int64Indexes with a unit increment support extending. The index is set will contain the position relative to the data length.\n",
      "  warnings.warn(\n"
     ]
    }
   ],
   "source": [
    "# as window is 3, pass last three values to predict next amount.\n",
    "pred = auto_reg_model.predict(start=47,end=52)"
   ]
  },
  {
   "cell_type": "code",
   "execution_count": 113,
   "id": "c55fff5d",
   "metadata": {},
   "outputs": [
    {
     "data": {
      "text/plain": [
       "2019-12-01    115.463743\n",
       "2020-01-01    141.977773\n",
       "2020-02-01    183.499630\n",
       "2020-03-01    212.381142\n",
       "2020-04-01    219.650615\n",
       "2020-05-01    211.770188\n",
       "Freq: MS, dtype: float64"
      ]
     },
     "execution_count": 113,
     "metadata": {},
     "output_type": "execute_result"
    }
   ],
   "source": [
    "pred"
   ]
  },
  {
   "cell_type": "code",
   "execution_count": 114,
   "id": "b5131682",
   "metadata": {},
   "outputs": [
    {
     "data": {
      "text/plain": [
       "Bill_Date\n",
       "2019-12-01    139.26\n",
       "2020-01-01    251.85\n",
       "2020-02-01    229.18\n",
       "2020-03-01    170.16\n",
       "2020-04-01     94.85\n",
       "2020-05-01    135.19\n",
       "Name: Billed_amount, dtype: float64"
      ]
     },
     "execution_count": 114,
     "metadata": {},
     "output_type": "execute_result"
    }
   ],
   "source": [
    "test"
   ]
  },
  {
   "cell_type": "code",
   "execution_count": 115,
   "id": "d469fbd2",
   "metadata": {},
   "outputs": [
    {
     "data": {
      "image/png": "[encoded data removed]",
      "text/plain": [
       "<Figure size 1080x360 with 1 Axes>"
      ]
     },
     "metadata": {
      "needs_background": "light"
     },
     "output_type": "display_data"
    }
   ],
   "source": [
    "plt.figure(figsize=(15,5))\n",
    "plt.plot(test,label = \"Actual Values\")\n",
    "plt.plot(pred,label = \"Predicted Values\")\n",
    "plt.legend()\n",
    "plt.show()"
   ]
  },
  {
   "cell_type": "code",
   "execution_count": 116,
   "id": "d4f4d363",
   "metadata": {},
   "outputs": [],
   "source": [
    "from sklearn.metrics import mean_squared_error"
   ]
  },
  {
   "cell_type": "code",
   "execution_count": 117,
   "id": "7de71eee",
   "metadata": {},
   "outputs": [],
   "source": [
    "mse= mean_squared_error(test,pred)"
   ]
  },
  {
   "cell_type": "code",
   "execution_count": 118,
   "id": "e306ed27",
   "metadata": {},
   "outputs": [
    {
     "data": {
      "text/plain": [
       "6324.534642673117"
      ]
     },
     "execution_count": 118,
     "metadata": {},
     "output_type": "execute_result"
    }
   ],
   "source": [
    "mse"
   ]
  },
  {
   "cell_type": "code",
   "execution_count": 119,
   "id": "e0d4f1bf",
   "metadata": {},
   "outputs": [],
   "source": [
    "rmse=np.sqrt(mse)"
   ]
  },
  {
   "cell_type": "code",
   "execution_count": 120,
   "id": "b6d8716d",
   "metadata": {},
   "outputs": [
    {
     "data": {
      "text/plain": [
       "79.52694287267126"
      ]
     },
     "execution_count": 120,
     "metadata": {},
     "output_type": "execute_result"
    }
   ],
   "source": [
    "rmse"
   ]
  },
  {
   "cell_type": "code",
   "execution_count": 121,
   "id": "6a8620ea",
   "metadata": {},
   "outputs": [],
   "source": [
    "# Deviation is 79"
   ]
  },
  {
   "cell_type": "markdown",
   "id": "85709325",
   "metadata": {},
   "source": [
    "### Identify the best lag value\n",
    "1. ACF - Auto Correlation Function - Moving Average\n",
    "2. PACF - Partial Auto Correlation Function - Auto Regression"
   ]
  },
  {
   "cell_type": "markdown",
   "id": "51a62256",
   "metadata": {},
   "source": [
    "#### ACF - Auto Correlation Function"
   ]
  },
  {
   "cell_type": "code",
   "execution_count": 122,
   "id": "6ebb8200",
   "metadata": {},
   "outputs": [
    {
     "data": {
      "text/plain": [
       "'\\n - Indirect Correlation\\n - To calcualte correlation between P1 and P3\\n  - P1 -> P2\\n  - P2 -> P3\\n  \\nLagged Time Series : \\n \\n \\n \\n'"
      ]
     },
     "execution_count": 122,
     "metadata": {},
     "output_type": "execute_result"
    }
   ],
   "source": [
    "'''\n",
    " - Indirect Correlation\n",
    " - To calcualte correlation between P1 and P3\n",
    "  - P1 -> P2\n",
    "  - P2 -> P3\n",
    "  \n",
    "Lagged Time Series : \n",
    " \n",
    " \n",
    " \n",
    "'''"
   ]
  },
  {
   "cell_type": "markdown",
   "id": "1fb2bf9d",
   "metadata": {},
   "source": [
    "#### ACF Plot"
   ]
  },
  {
   "cell_type": "code",
   "execution_count": 123,
   "id": "6f5e78d6",
   "metadata": {},
   "outputs": [],
   "source": [
    "from statsmodels.graphics.tsaplots import plot_acf"
   ]
  },
  {
   "cell_type": "code",
   "execution_count": 124,
   "id": "f3a9c996",
   "metadata": {},
   "outputs": [
    {
     "data": {
      "image/png": "[encoded data removed]",
      "text/plain": [
       "<Figure size 432x288 with 1 Axes>"
      ]
     },
     "metadata": {
      "needs_background": "light"
     },
     "output_type": "display_data"
    }
   ],
   "source": [
    "plot_acf(train,lags=20)\n",
    "plt.xticks(range(0,21))\n",
    "plt.show()"
   ]
  },
  {
   "cell_type": "markdown",
   "id": "729cd9ac",
   "metadata": {},
   "source": [
    "#### PACF - Partial Auto Correlation Function"
   ]
  },
  {
   "cell_type": "code",
   "execution_count": 125,
   "id": "64f75c9d",
   "metadata": {},
   "outputs": [
    {
     "data": {
      "text/plain": [
       "'\\nDirect Correlation\\n\\n - To calcualte correlation between P1 and P3\\n  - P1 -> P3. \\n - Other factors are not considered.\\n \\n xt= m1*(x(t-1))+m2*(x(t-2)+m3*(x(t-3)))\\n\\n'"
      ]
     },
     "execution_count": 125,
     "metadata": {},
     "output_type": "execute_result"
    }
   ],
   "source": [
    "'''\n",
    "Direct Correlation\n",
    "\n",
    " - To calcualte correlation between P1 and P3\n",
    "  - P1 -> P3. \n",
    " - Other factors are not considered.\n",
    " \n",
    " xt= m1*(x(t-1))+m2*(x(t-2)+m3*(x(t-3)))\n",
    "\n",
    "'''"
   ]
  },
  {
   "cell_type": "code",
   "execution_count": 126,
   "id": "3ddeeb01",
   "metadata": {},
   "outputs": [],
   "source": [
    "from statsmodels.graphics.tsaplots import plot_pacf"
   ]
  },
  {
   "cell_type": "code",
   "execution_count": 127,
   "id": "841923ce",
   "metadata": {},
   "outputs": [
    {
     "data": {
      "image/png": "[encoded data removed]",
      "text/plain": [
       "<Figure size 432x288 with 1 Axes>"
      ]
     },
     "metadata": {
      "needs_background": "light"
     },
     "output_type": "display_data"
    }
   ],
   "source": [
    "plot_pacf(train,lags=20)\n",
    "plt.xticks(range(0,21))\n",
    "plt.show()"
   ]
  },
  {
   "cell_type": "markdown",
   "id": "1d681908",
   "metadata": {},
   "source": [
    "### White Noice"
   ]
  },
  {
   "cell_type": "code",
   "execution_count": 128,
   "id": "ac0ad158",
   "metadata": {},
   "outputs": [
    {
     "data": {
      "text/plain": [
       "'\\nMean = 0 or close to 0 to constant\\nSD = Consant\\nAuto Correlation is 0\\n\\n\\n\\n'"
      ]
     },
     "execution_count": 128,
     "metadata": {},
     "output_type": "execute_result"
    }
   ],
   "source": [
    "'''\n",
    "Mean = 0 or close to 0 to constant\n",
    "SD = Consant\n",
    "Auto Correlation is 0\n",
    "\n",
    "\n",
    "\n",
    "'''"
   ]
  },
  {
   "cell_type": "markdown",
   "id": "be8636c1",
   "metadata": {},
   "source": [
    "### ARMA"
   ]
  },
  {
   "cell_type": "code",
   "execution_count": 129,
   "id": "d9e97e4e",
   "metadata": {},
   "outputs": [
    {
     "data": {
      "text/plain": [
       "'\\n\\n1.Combination of Auto Regression and Moving Average is called as ARMA\\n\\nMA = sum(yt-n)/n\\nAR = xt+1 = m1(xt) + m2(xt-1) + m3(xt-2) +....+ c + e(error parameter)\\n\\nyt = MA + AR\\n\\np = order of lag of moving average\\nq = Order of auto regression\\n\\n'"
      ]
     },
     "execution_count": 129,
     "metadata": {},
     "output_type": "execute_result"
    }
   ],
   "source": [
    "'''\n",
    "\n",
    "1.Combination of Auto Regression and Moving Average is called as ARMA\n",
    "\n",
    "MA = sum(yt-n)/n\n",
    "AR = xt+1 = m1(xt) + m2(xt-1) + m3(xt-2) +....+ c + e(error parameter)\n",
    "\n",
    "yt = MA + AR\n",
    "\n",
    "p = order of lag of moving average\n",
    "q = Order of auto regression\n",
    "\n",
    "'''"
   ]
  },
  {
   "cell_type": "code",
   "execution_count": 130,
   "id": "9570c430",
   "metadata": {},
   "outputs": [
    {
     "data": {
      "text/plain": [
       "Bill_Date\n",
       "2016-01-01    247.73\n",
       "2016-02-01    234.11\n",
       "2016-03-01    123.85\n",
       "2016-04-01    111.22\n",
       "2016-05-01    118.37\n",
       "2016-06-01     77.81\n",
       "2016-07-01     86.67\n",
       "2016-08-01    122.40\n",
       "2016-09-01    223.62\n",
       "2016-10-01    152.54\n",
       "2016-11-01    150.54\n",
       "2016-12-01    244.37\n",
       "2017-01-01    263.64\n",
       "2017-02-01    214.32\n",
       "2017-03-01    151.54\n",
       "2017-04-01    118.79\n",
       "2017-05-01    153.18\n",
       "2017-06-01    212.08\n",
       "2017-07-01    281.19\n",
       "2017-08-01    237.97\n",
       "2017-09-01    284.30\n",
       "2017-10-01    172.69\n",
       "2017-11-01    111.51\n",
       "2017-12-01    151.42\n",
       "2018-01-01    267.32\n",
       "2018-02-01    201.35\n",
       "2018-03-01    202.91\n",
       "2018-04-01    150.86\n",
       "2018-05-01    163.07\n",
       "2018-06-01    219.76\n",
       "2018-07-01    283.98\n",
       "2018-08-01    290.15\n",
       "2018-09-01    257.96\n",
       "2018-10-01    327.19\n",
       "2018-11-01    193.49\n",
       "2018-12-01    152.34\n",
       "2019-01-01    196.62\n",
       "2019-02-01    190.07\n",
       "2019-03-01    198.57\n",
       "2019-04-01    115.15\n",
       "2019-05-01    153.18\n",
       "2019-06-01    138.53\n",
       "2019-07-01    238.48\n",
       "2019-08-01    309.65\n",
       "2019-09-01    403.89\n",
       "2019-10-01    244.03\n",
       "2019-11-01    145.46\n",
       "Name: Billed_amount, dtype: float64"
      ]
     },
     "execution_count": 130,
     "metadata": {},
     "output_type": "execute_result"
    }
   ],
   "source": [
    "train"
   ]
  },
  {
   "cell_type": "code",
   "execution_count": 131,
   "id": "0223dd89",
   "metadata": {},
   "outputs": [
    {
     "data": {
      "text/plain": [
       "Bill_Date\n",
       "2019-12-01    139.26\n",
       "2020-01-01    251.85\n",
       "2020-02-01    229.18\n",
       "2020-03-01    170.16\n",
       "2020-04-01     94.85\n",
       "2020-05-01    135.19\n",
       "Name: Billed_amount, dtype: float64"
      ]
     },
     "execution_count": 131,
     "metadata": {},
     "output_type": "execute_result"
    }
   ],
   "source": [
    "test"
   ]
  },
  {
   "cell_type": "code",
   "execution_count": 132,
   "id": "1a86a251",
   "metadata": {},
   "outputs": [],
   "source": [
    "from statsmodels.tsa.arima_model import ARMA"
   ]
  },
  {
   "cell_type": "code",
   "execution_count": 133,
   "id": "c87671f1",
   "metadata": {},
   "outputs": [],
   "source": [
    "import statsmodels"
   ]
  },
  {
   "cell_type": "code",
   "execution_count": 134,
   "id": "54c26269",
   "metadata": {},
   "outputs": [
    {
     "data": {
      "text/plain": [
       "'0.12.2'"
      ]
     },
     "execution_count": 134,
     "metadata": {},
     "output_type": "execute_result"
    }
   ],
   "source": [
    "statsmodels.__version__"
   ]
  },
  {
   "cell_type": "code",
   "execution_count": 135,
   "id": "fece9fa9",
   "metadata": {},
   "outputs": [
    {
     "name": "stderr",
     "output_type": "stream",
     "text": [
      "/Users/SyeedSyed/anaconda3/lib/python3.8/site-packages/statsmodels/tsa/arima_model.py:472: FutureWarning: \n",
      "statsmodels.tsa.arima_model.ARMA and statsmodels.tsa.arima_model.ARIMA have\n",
      "been deprecated in favor of statsmodels.tsa.arima.model.ARIMA (note the .\n",
      "between arima and model) and\n",
      "statsmodels.tsa.SARIMAX. These will be removed after the 0.12 release.\n",
      "\n",
      "statsmodels.tsa.arima.model.ARIMA makes use of the statespace framework and\n",
      "is both well tested and maintained.\n",
      "\n",
      "To silence this warning and continue using ARMA and ARIMA until they are\n",
      "removed, use:\n",
      "\n",
      "import warnings\n",
      "warnings.filterwarnings('ignore', 'statsmodels.tsa.arima_model.ARMA',\n",
      "                        FutureWarning)\n",
      "warnings.filterwarnings('ignore', 'statsmodels.tsa.arima_model.ARIMA',\n",
      "                        FutureWarning)\n",
      "\n",
      "  warnings.warn(ARIMA_DEPRECATION_WARN, FutureWarning)\n",
      "/Users/SyeedSyed/anaconda3/lib/python3.8/site-packages/statsmodels/tsa/base/tsa_model.py:524: ValueWarning: No frequency information was provided, so inferred frequency MS will be used.\n",
      "  warnings.warn('No frequency information was'\n"
     ]
    }
   ],
   "source": [
    "#Order or Lags\n",
    "#Order(p,q)\n",
    "#p - Auto Regressive Order\n",
    "#q - Moving Average\n",
    "\n",
    "arma_model = ARMA(train,order=(1,1))"
   ]
  },
  {
   "cell_type": "code",
   "execution_count": 136,
   "id": "8d3cfadf",
   "metadata": {},
   "outputs": [],
   "source": [
    "# fit method will return the trained model\n",
    "arma_model = arma_model.fit()"
   ]
  },
  {
   "cell_type": "code",
   "execution_count": 137,
   "id": "4e982ea8",
   "metadata": {},
   "outputs": [
    {
     "data": {
      "text/plain": [
       "Bill_Date\n",
       "2016-01-01    247.73\n",
       "2016-02-01    234.11\n",
       "2016-03-01    123.85\n",
       "2016-04-01    111.22\n",
       "2016-05-01    118.37\n",
       "2016-06-01     77.81\n",
       "2016-07-01     86.67\n",
       "2016-08-01    122.40\n",
       "2016-09-01    223.62\n",
       "2016-10-01    152.54\n",
       "2016-11-01    150.54\n",
       "2016-12-01    244.37\n",
       "2017-01-01    263.64\n",
       "2017-02-01    214.32\n",
       "2017-03-01    151.54\n",
       "2017-04-01    118.79\n",
       "2017-05-01    153.18\n",
       "2017-06-01    212.08\n",
       "2017-07-01    281.19\n",
       "2017-08-01    237.97\n",
       "2017-09-01    284.30\n",
       "2017-10-01    172.69\n",
       "2017-11-01    111.51\n",
       "2017-12-01    151.42\n",
       "2018-01-01    267.32\n",
       "2018-02-01    201.35\n",
       "2018-03-01    202.91\n",
       "2018-04-01    150.86\n",
       "2018-05-01    163.07\n",
       "2018-06-01    219.76\n",
       "2018-07-01    283.98\n",
       "2018-08-01    290.15\n",
       "2018-09-01    257.96\n",
       "2018-10-01    327.19\n",
       "2018-11-01    193.49\n",
       "2018-12-01    152.34\n",
       "2019-01-01    196.62\n",
       "2019-02-01    190.07\n",
       "2019-03-01    198.57\n",
       "2019-04-01    115.15\n",
       "2019-05-01    153.18\n",
       "2019-06-01    138.53\n",
       "2019-07-01    238.48\n",
       "2019-08-01    309.65\n",
       "2019-09-01    403.89\n",
       "2019-10-01    244.03\n",
       "2019-11-01    145.46\n",
       "Name: Billed_amount, dtype: float64"
      ]
     },
     "execution_count": 137,
     "metadata": {},
     "output_type": "execute_result"
    }
   ],
   "source": [
    "train"
   ]
  },
  {
   "cell_type": "code",
   "execution_count": 138,
   "id": "18ef9a05",
   "metadata": {},
   "outputs": [
    {
     "data": {
      "text/plain": [
       "Bill_Date\n",
       "2019-12-01    139.26\n",
       "2020-01-01    251.85\n",
       "2020-02-01    229.18\n",
       "2020-03-01    170.16\n",
       "2020-04-01     94.85\n",
       "2020-05-01    135.19\n",
       "Name: Billed_amount, dtype: float64"
      ]
     },
     "execution_count": 138,
     "metadata": {},
     "output_type": "execute_result"
    }
   ],
   "source": [
    "test"
   ]
  },
  {
   "cell_type": "code",
   "execution_count": null,
   "id": "61e8e939",
   "metadata": {},
   "outputs": [],
   "source": []
  },
  {
   "cell_type": "code",
   "execution_count": 146,
   "id": "7cb1311b",
   "metadata": {},
   "outputs": [],
   "source": [
    "pred= arma_model.predict(start=47,end = 52)"
   ]
  },
  {
   "cell_type": "code",
   "execution_count": 147,
   "id": "ac823512",
   "metadata": {},
   "outputs": [
    {
     "data": {
      "text/plain": [
       "2019-12-01    164.981264\n",
       "2020-01-01    186.236940\n",
       "2020-02-01    193.524168\n",
       "2020-03-01    196.022499\n",
       "2020-04-01    196.879018\n",
       "2020-05-01    197.172665\n",
       "Freq: MS, dtype: float64"
      ]
     },
     "execution_count": 147,
     "metadata": {},
     "output_type": "execute_result"
    }
   ],
   "source": [
    "pred"
   ]
  },
  {
   "cell_type": "code",
   "execution_count": null,
   "id": "389c7de0",
   "metadata": {},
   "outputs": [],
   "source": []
  },
  {
   "cell_type": "code",
   "execution_count": 150,
   "id": "312b61d1",
   "metadata": {},
   "outputs": [
    {
     "data": {
      "image/png": "[encoded data removed]",
      "text/plain": [
       "<Figure size 1080x360 with 1 Axes>"
      ]
     },
     "metadata": {
      "needs_background": "light"
     },
     "output_type": "display_data"
    }
   ],
   "source": [
    "plt.figure(figsize=(15,5))\n",
    "plt.plot(test,label = \"Actual Values\")\n",
    "plt.plot(pred,label = \"Predicted Values\")\n",
    "plt.legend()\n",
    "plt.show()"
   ]
  },
  {
   "cell_type": "code",
   "execution_count": 155,
   "id": "29c04ae0",
   "metadata": {},
   "outputs": [],
   "source": [
    "mse= mean_squared_error(test,pred)"
   ]
  },
  {
   "cell_type": "code",
   "execution_count": 156,
   "id": "4457cf73",
   "metadata": {},
   "outputs": [
    {
     "data": {
      "text/plain": [
       "3526.4392691671605"
      ]
     },
     "execution_count": 156,
     "metadata": {},
     "output_type": "execute_result"
    }
   ],
   "source": [
    "mse"
   ]
  },
  {
   "cell_type": "code",
   "execution_count": 157,
   "id": "ea244382",
   "metadata": {},
   "outputs": [],
   "source": [
    "rmse=np.sqrt(mse)"
   ]
  },
  {
   "cell_type": "code",
   "execution_count": 158,
   "id": "9b67286c",
   "metadata": {},
   "outputs": [
    {
     "data": {
      "text/plain": [
       "59.383830031138615"
      ]
     },
     "execution_count": 158,
     "metadata": {},
     "output_type": "execute_result"
    }
   ],
   "source": [
    "rmse"
   ]
  },
  {
   "cell_type": "code",
   "execution_count": null,
   "id": "3d5987a5",
   "metadata": {},
   "outputs": [],
   "source": []
  }
 ],
 "metadata": {
  "kernelspec": {
   "display_name": "Python 3",
   "language": "python",
   "name": "python3"
  },
  "language_info": {
   "codemirror_mode": {
    "name": "ipython",
    "version": 3
   },
   "file_extension": ".py",
   "mimetype": "text/x-python",
   "name": "python",
   "nbconvert_exporter": "python",
   "pygments_lexer": "ipython3",
   "version": "3.8.8"
  }
 },
 "nbformat": 4,
 "nbformat_minor": 5
}
