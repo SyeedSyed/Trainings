{
 "cells": [
  {
   "cell_type": "code",
   "execution_count": 8,
   "metadata": {},
   "outputs": [
    {
     "name": "stdout",
     "output_type": "stream",
     "text": [
      "a: 10\n",
      "c: 20\n",
      "a: 10\n"
     ]
    },
    {
     "ename": "NameError",
     "evalue": "name 'c' is not defined",
     "output_type": "error",
     "traceback": [
      "\u001b[1;31m---------------------------------------------------------------------------\u001b[0m",
      "\u001b[1;31mNameError\u001b[0m                                 Traceback (most recent call last)",
      "\u001b[1;32m<ipython-input-8-b012ad0571cd>\u001b[0m in \u001b[0;36m<module>\u001b[1;34m\u001b[0m\n\u001b[0;32m      6\u001b[0m \u001b[0mdisplay\u001b[0m\u001b[1;33m(\u001b[0m\u001b[1;33m)\u001b[0m\u001b[1;33m\u001b[0m\u001b[1;33m\u001b[0m\u001b[0m\n\u001b[0;32m      7\u001b[0m \u001b[0mprint\u001b[0m\u001b[1;33m(\u001b[0m\u001b[1;34m\"a:\"\u001b[0m\u001b[1;33m,\u001b[0m\u001b[0ma\u001b[0m\u001b[1;33m)\u001b[0m\u001b[1;33m\u001b[0m\u001b[1;33m\u001b[0m\u001b[0m\n\u001b[1;32m----> 8\u001b[1;33m \u001b[0mprint\u001b[0m\u001b[1;33m(\u001b[0m\u001b[0mc\u001b[0m\u001b[1;33m)\u001b[0m\u001b[1;33m\u001b[0m\u001b[1;33m\u001b[0m\u001b[0m\n\u001b[0m",
      "\u001b[1;31mNameError\u001b[0m: name 'c' is not defined"
     ]
    }
   ],
   "source": [
    "a=10#Global Varible\n",
    "def display():\n",
    "    c=20#Local Variable\n",
    "    print(\"a:\",a)\n",
    "    print(\"c:\",c)\n",
    "display()\n",
    "print(\"a:\",a)\n",
    "print(c)"
   ]
  },
  {
   "cell_type": "code",
   "execution_count": 20,
   "metadata": {},
   "outputs": [
    {
     "name": "stdout",
     "output_type": "stream",
     "text": [
      "11\n",
      "11\n"
     ]
    }
   ],
   "source": [
    "a=10\n",
    "def display():\n",
    "    global a\n",
    "    a=a+1\n",
    "    print(a)\n",
    "display()\n",
    "print(a)"
   ]
  },
  {
   "cell_type": "code",
   "execution_count": 21,
   "metadata": {},
   "outputs": [
    {
     "data": {
      "text/plain": [
       "11"
      ]
     },
     "execution_count": 21,
     "metadata": {},
     "output_type": "execute_result"
    }
   ],
   "source": [
    "a"
   ]
  },
  {
   "cell_type": "code",
   "execution_count": 26,
   "metadata": {},
   "outputs": [
    {
     "name": "stdout",
     "output_type": "stream",
     "text": [
      "a: 10\n",
      "c: 20\n",
      "a: 10\n",
      "c: 20\n"
     ]
    }
   ],
   "source": [
    "a=10#Golbal Varible\n",
    "def display():\n",
    "    global c\n",
    "    c=20#Global Varible\n",
    "    print(\"a:\",a)\n",
    "    print(\"c:\",c)\n",
    "display()\n",
    "print(\"a:\",a)\n",
    "print(\"c:\",c)"
   ]
  },
  {
   "cell_type": "code",
   "execution_count": 28,
   "metadata": {},
   "outputs": [
    {
     "name": "stdout",
     "output_type": "stream",
     "text": [
      "a: 10\n",
      "c: 20\n",
      "a: 10\n",
      "c: 20\n",
      "Hello\n",
      "hi\n"
     ]
    }
   ],
   "source": [
    "a=10#Golbal Varible\n",
    "def display():\n",
    "    global c,v,d\n",
    "    v=\"Hello\"\n",
    "    d=\"hi\"\n",
    "    c=20#Global Varible\n",
    "    print(\"a:\",a)\n",
    "    print(\"c:\",c)\n",
    "display()\n",
    "print(\"a:\",a)\n",
    "print(\"c:\",c)\n",
    "print(v)\n",
    "print(d)"
   ]
  },
  {
   "cell_type": "code",
   "execution_count": 67,
   "metadata": {},
   "outputs": [
    {
     "name": "stdout",
     "output_type": "stream",
     "text": [
      "12\n"
     ]
    }
   ],
   "source": [
    "#Task --Count Even Numbers in List\n",
    "le=[2,1,4,1,2,6,1,5,7,1,2,4,6,8,9,8,10,4,5,2]\n",
    "even_count=0\n",
    "# % ---Remainder \n",
    "def counter(d): \n",
    "    global even_count\n",
    "    if(d%2==0):\n",
    "        even_count=even_count+1\n",
    "for i in le:\n",
    "    counter(i)\n",
    "print(even_count)"
   ]
  },
  {
   "cell_type": "code",
   "execution_count": null,
   "metadata": {},
   "outputs": [],
   "source": []
  }
 ],
 "metadata": {
  "kernelspec": {
   "display_name": "Python 3",
   "language": "python",
   "name": "python3"
  },
  "language_info": {
   "codemirror_mode": {
    "name": "ipython",
    "version": 3
   },
   "file_extension": ".py",
   "mimetype": "text/x-python",
   "name": "python",
   "nbconvert_exporter": "python",
   "pygments_lexer": "ipython3",
   "version": "3.7.4"
  }
 },
 "nbformat": 4,
 "nbformat_minor": 2
}
