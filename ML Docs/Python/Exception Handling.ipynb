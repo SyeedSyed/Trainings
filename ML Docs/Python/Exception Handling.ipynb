{
 "cells": [
  {
   "cell_type": "code",
   "execution_count": 4,
   "metadata": {},
   "outputs": [
    {
     "ename": "SyntaxError",
     "evalue": "Missing parentheses in call to 'print'. Did you mean print(1)? (<ipython-input-4-c94594b6b28f>, line 1)",
     "output_type": "error",
     "traceback": [
      "\u001b[1;36m  File \u001b[1;32m\"<ipython-input-4-c94594b6b28f>\"\u001b[1;36m, line \u001b[1;32m1\u001b[0m\n\u001b[1;33m    print 1\u001b[0m\n\u001b[1;37m          ^\u001b[0m\n\u001b[1;31mSyntaxError\u001b[0m\u001b[1;31m:\u001b[0m Missing parentheses in call to 'print'. Did you mean print(1)?\n"
     ]
    }
   ],
   "source": [
    "print 1"
   ]
  },
  {
   "cell_type": "code",
   "execution_count": 11,
   "metadata": {},
   "outputs": [
    {
     "name": "stdout",
     "output_type": "stream",
     "text": [
      "0\n",
      "1\n",
      "2\n",
      "3\n",
      "4\n",
      "5\n",
      "6\n",
      "7\n",
      "8\n",
      "9\n"
     ]
    }
   ],
   "source": [
    "for i in range(0,10):\n",
    "    print(i)"
   ]
  },
  {
   "cell_type": "code",
   "execution_count": 1,
   "metadata": {},
   "outputs": [
    {
     "name": "stdout",
     "output_type": "stream",
     "text": [
      "Enter a number: 1\n",
      "Enter second number: 2\n"
     ]
    }
   ],
   "source": [
    "a=input(\"Enter a number: \")\n",
    "b=input(\"Enter second number: \")"
   ]
  },
  {
   "cell_type": "code",
   "execution_count": 2,
   "metadata": {},
   "outputs": [
    {
     "name": "stdout",
     "output_type": "stream",
     "text": [
      "3\n",
      "This is a test\n",
      "This is test2\n"
     ]
    }
   ],
   "source": [
    "try:\n",
    "    c=int(a)+int(b)\n",
    "    print(c)\n",
    "except:\n",
    "    print(\"Exception Occured\")\n",
    "print(\"This is a test\")\n",
    "print(\"This is test2\")"
   ]
  },
  {
   "cell_type": "code",
   "execution_count": 43,
   "metadata": {},
   "outputs": [
    {
     "name": "stdout",
     "output_type": "stream",
     "text": [
      "Value Error Occured\n",
      "This is a test\n",
      "This is test2\n"
     ]
    }
   ],
   "source": [
    "try:\n",
    "    c=int(a)+int(b)\n",
    "    print(c)\n",
    "except ValueError:\n",
    "    print(\"Value Error Occured\")\n",
    "print(\"This is a test\")\n",
    "print(\"This is test2\")"
   ]
  },
  {
   "cell_type": "code",
   "execution_count": 46,
   "metadata": {},
   "outputs": [
    {
     "name": "stdout",
     "output_type": "stream",
     "text": [
      "Error Occured\n",
      "This is a test\n",
      "This is test2\n"
     ]
    }
   ],
   "source": [
    "try:\n",
    "    f=open(\"exp_hand.txt\",mode=\"r\")\n",
    "    c=int(a)+int(b)\n",
    "    print(c)\n",
    "except:\n",
    "    print(\"Error Occured\")\n",
    "print(\"This is a test\")\n",
    "print(\"This is test2\")"
   ]
  },
  {
   "cell_type": "code",
   "execution_count": 82,
   "metadata": {
    "scrolled": true
   },
   "outputs": [
    {
     "ename": "FileNotFoundError",
     "evalue": "[Errno 2] No such file or directory: 'exp_hand.txt'",
     "output_type": "error",
     "traceback": [
      "\u001b[1;31m---------------------------------------------------------------------------\u001b[0m",
      "\u001b[1;31mFileNotFoundError\u001b[0m                         Traceback (most recent call last)",
      "\u001b[1;32m<ipython-input-82-a2af6f7ed07b>\u001b[0m in \u001b[0;36m<module>\u001b[1;34m\u001b[0m\n\u001b[0;32m      1\u001b[0m \u001b[1;32mtry\u001b[0m\u001b[1;33m:\u001b[0m\u001b[1;33m\u001b[0m\u001b[1;33m\u001b[0m\u001b[0m\n\u001b[1;32m----> 2\u001b[1;33m     \u001b[0mf\u001b[0m\u001b[1;33m=\u001b[0m\u001b[0mopen\u001b[0m\u001b[1;33m(\u001b[0m\u001b[1;34m\"exp_hand.txt\"\u001b[0m\u001b[1;33m,\u001b[0m\u001b[0mmode\u001b[0m\u001b[1;33m=\u001b[0m\u001b[1;34m\"r\"\u001b[0m\u001b[1;33m)\u001b[0m\u001b[1;33m\u001b[0m\u001b[1;33m\u001b[0m\u001b[0m\n\u001b[0m\u001b[0;32m      3\u001b[0m     \u001b[0mc\u001b[0m\u001b[1;33m=\u001b[0m\u001b[0mint\u001b[0m\u001b[1;33m(\u001b[0m\u001b[0ma\u001b[0m\u001b[1;33m)\u001b[0m\u001b[1;33m+\u001b[0m\u001b[0mint\u001b[0m\u001b[1;33m(\u001b[0m\u001b[0mb\u001b[0m\u001b[1;33m)\u001b[0m\u001b[1;33m\u001b[0m\u001b[1;33m\u001b[0m\u001b[0m\n\u001b[0;32m      4\u001b[0m     \u001b[0mprint\u001b[0m\u001b[1;33m(\u001b[0m\u001b[0mc\u001b[0m\u001b[1;33m)\u001b[0m\u001b[1;33m\u001b[0m\u001b[1;33m\u001b[0m\u001b[0m\n\u001b[0;32m      5\u001b[0m \u001b[1;32mexcept\u001b[0m \u001b[0mValueError\u001b[0m\u001b[1;33m:\u001b[0m\u001b[1;33m\u001b[0m\u001b[1;33m\u001b[0m\u001b[0m\n",
      "\u001b[1;31mFileNotFoundError\u001b[0m: [Errno 2] No such file or directory: 'exp_hand.txt'"
     ]
    }
   ],
   "source": [
    "try:\n",
    "    f=open(\"exp_hand.txt\",mode=\"r\")\n",
    "    c=int(a)+int(b)\n",
    "    print(c)\n",
    "except ValueError:\n",
    "    print(\"Error Occured\")\n",
    "print(\"This is a test\")\n",
    "print(\"This is test2\")"
   ]
  },
  {
   "cell_type": "code",
   "execution_count": 59,
   "metadata": {},
   "outputs": [
    {
     "name": "stdout",
     "output_type": "stream",
     "text": [
      "Enter a number: hello\n",
      "Enter second number: hi\n"
     ]
    }
   ],
   "source": [
    "a=input(\"Enter a number: \")\n",
    "b=input(\"Enter second number: \")"
   ]
  },
  {
   "cell_type": "code",
   "execution_count": 74,
   "metadata": {},
   "outputs": [
    {
     "name": "stdout",
     "output_type": "stream",
     "text": [
      "Value Error Occured\n",
      "File Not found error\n",
      "This is a test\n",
      "This is test2\n"
     ]
    }
   ],
   "source": [
    "try:\n",
    "    c=int(a)+int(b)\n",
    "    print(c)\n",
    "except ValueError :\n",
    "    print(\"Value Error Occured\")  \n",
    "try:\n",
    "    f=open(\"exp_hand.txt\",mode=\"r\")\n",
    "except FileNotFoundError:\n",
    "    print(\"File Not found error\")\n",
    "print(\"This is a test\")\n",
    "print(\"This is test2\")"
   ]
  },
  {
   "cell_type": "code",
   "execution_count": 73,
   "metadata": {},
   "outputs": [
    {
     "name": "stdout",
     "output_type": "stream",
     "text": [
      "[Errno 17] File exists: 'sample_a.txt'\n",
      "Exception Occured\n",
      "This is a test\n",
      "This is test2\n"
     ]
    }
   ],
   "source": [
    "try:\n",
    "    #print(d)\n",
    "    f=open(\"sample_a.txt\",mode=\"x\")\n",
    "    f=open(\"exp_hand.txt\",mode=\"r\")\n",
    "except ValueError:\n",
    "    print(\"Value Error Occured\")\n",
    "except NameError:\n",
    "    print(\"Name error\")\n",
    "except Exception as e:\n",
    "    print(e)\n",
    "    print(\"Exception Occured\")\n",
    "print(\"This is a test\")\n",
    "print(\"This is test2\")"
   ]
  },
  {
   "cell_type": "code",
   "execution_count": 3,
   "metadata": {},
   "outputs": [
    {
     "name": "stdout",
     "output_type": "stream",
     "text": [
      "This is else\n",
      "No Exception Occured\n",
      "This is a test\n",
      "This is test2\n"
     ]
    }
   ],
   "source": [
    "try:\n",
    "    #print(d)\n",
    "    f=open(\"sample_a.txt\",mode=\"r\")\n",
    "    #f=open(\"exp_hand.txt\",mode=\"r\")\n",
    "except ValueError:\n",
    "    print(\"Value Error Occured\")\n",
    "except NameError:\n",
    "    print(\"Name error\")\n",
    "except Exception as e:\n",
    "    print(e)\n",
    "    print(\"Exception Occured\")\n",
    "else:\n",
    "    f.close()\n",
    "    print(\"This is else\")\n",
    "    print(\"No Exception Occured\")\n",
    "print(\"This is a test\")\n",
    "print(\"This is test2\")"
   ]
  },
  {
   "cell_type": "code",
   "execution_count": 95,
   "metadata": {},
   "outputs": [
    {
     "name": "stdout",
     "output_type": "stream",
     "text": [
      "[Errno 17] File exists: 'sample_a.txt'\n",
      "Exception Occured\n",
      "Exception handling is done\n",
      "This is a test\n",
      "This is test2\n"
     ]
    }
   ],
   "source": [
    "try:\n",
    "    #print(d)\n",
    "    f=open(\"sample_a.txt\",mode=\"x\")\n",
    "    #f=open(\"exp_hand.txt\",mode=\"r\")\n",
    "except ValueError:\n",
    "    print(\"Value Error Occured\")\n",
    "except NameError:\n",
    "    print(\"Name error\")\n",
    "except Exception as e:\n",
    "    print(e)\n",
    "    print(\"Exception Occured\")\n",
    "else:\n",
    "    f.close()\n",
    "    print(\"This is else\")\n",
    "    print(\"No Exception Occured\")\n",
    "finally:\n",
    "    print(\"Exception handling is done\")\n",
    "print(\"This is a test\")\n",
    "print(\"This is test2\")"
   ]
  },
  {
   "cell_type": "markdown",
   "metadata": {},
   "source": [
    "# Raise a custom exception"
   ]
  },
  {
   "cell_type": "code",
   "execution_count": 26,
   "metadata": {},
   "outputs": [],
   "source": [
    "def add(a,b):\n",
    "    if(a<0 or b<0):\n",
    "        raise Exception(\"Only Positive values Accepted\")\n",
    "    print(a+b)"
   ]
  },
  {
   "cell_type": "code",
   "execution_count": 27,
   "metadata": {},
   "outputs": [
    {
     "ename": "Exception",
     "evalue": "Only Positive values Accepted",
     "output_type": "error",
     "traceback": [
      "\u001b[1;31m---------------------------------------------------------------------------\u001b[0m",
      "\u001b[1;31mException\u001b[0m                                 Traceback (most recent call last)",
      "\u001b[1;32m<ipython-input-27-5dcf2350c00b>\u001b[0m in \u001b[0;36m<module>\u001b[1;34m\u001b[0m\n\u001b[1;32m----> 1\u001b[1;33m \u001b[0madd\u001b[0m\u001b[1;33m(\u001b[0m\u001b[1;33m-\u001b[0m\u001b[1;36m1\u001b[0m\u001b[1;33m,\u001b[0m\u001b[1;36m2\u001b[0m\u001b[1;33m)\u001b[0m\u001b[1;33m\u001b[0m\u001b[1;33m\u001b[0m\u001b[0m\n\u001b[0m",
      "\u001b[1;32m<ipython-input-26-f5964989cd2b>\u001b[0m in \u001b[0;36madd\u001b[1;34m(a, b)\u001b[0m\n\u001b[0;32m      1\u001b[0m \u001b[1;32mdef\u001b[0m \u001b[0madd\u001b[0m\u001b[1;33m(\u001b[0m\u001b[0ma\u001b[0m\u001b[1;33m,\u001b[0m\u001b[0mb\u001b[0m\u001b[1;33m)\u001b[0m\u001b[1;33m:\u001b[0m\u001b[1;33m\u001b[0m\u001b[1;33m\u001b[0m\u001b[0m\n\u001b[0;32m      2\u001b[0m     \u001b[1;32mif\u001b[0m\u001b[1;33m(\u001b[0m\u001b[0ma\u001b[0m\u001b[1;33m<\u001b[0m\u001b[1;36m0\u001b[0m \u001b[1;32mor\u001b[0m \u001b[0mb\u001b[0m\u001b[1;33m<\u001b[0m\u001b[1;36m0\u001b[0m\u001b[1;33m)\u001b[0m\u001b[1;33m:\u001b[0m\u001b[1;33m\u001b[0m\u001b[1;33m\u001b[0m\u001b[0m\n\u001b[1;32m----> 3\u001b[1;33m         \u001b[1;32mraise\u001b[0m \u001b[0mException\u001b[0m\u001b[1;33m(\u001b[0m\u001b[1;34m\"Only Positive values Accepted\"\u001b[0m\u001b[1;33m)\u001b[0m\u001b[1;33m\u001b[0m\u001b[1;33m\u001b[0m\u001b[0m\n\u001b[0m\u001b[0;32m      4\u001b[0m     \u001b[0mprint\u001b[0m\u001b[1;33m(\u001b[0m\u001b[0ma\u001b[0m\u001b[1;33m+\u001b[0m\u001b[0mb\u001b[0m\u001b[1;33m)\u001b[0m\u001b[1;33m\u001b[0m\u001b[1;33m\u001b[0m\u001b[0m\n",
      "\u001b[1;31mException\u001b[0m: Only Positive values Accepted"
     ]
    }
   ],
   "source": [
    "add(-1,2)"
   ]
  },
  {
   "cell_type": "code",
   "execution_count": 28,
   "metadata": {},
   "outputs": [],
   "source": [
    "def add(a,b):\n",
    "    if(a<0 or b<0):\n",
    "        raise ValueError(\"Only Positive values Accepted\")\n",
    "    print(a+b)"
   ]
  },
  {
   "cell_type": "code",
   "execution_count": null,
   "metadata": {},
   "outputs": [],
   "source": []
  }
 ],
 "metadata": {
  "kernelspec": {
   "display_name": "Python 3",
   "language": "python",
   "name": "python3"
  },
  "language_info": {
   "codemirror_mode": {
    "name": "ipython",
    "version": 3
   },
   "file_extension": ".py",
   "mimetype": "text/x-python",
   "name": "python",
   "nbconvert_exporter": "python",
   "pygments_lexer": "ipython3",
   "version": "3.7.4"
  }
 },
 "nbformat": 4,
 "nbformat_minor": 2
}
